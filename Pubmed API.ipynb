{
 "cells": [
  {
   "cell_type": "code",
   "execution_count": 26,
   "metadata": {},
   "outputs": [],
   "source": [
    "import requests\n",
    "import pandas as pd\n",
    "import pymongo"
   ]
  },
  {
   "cell_type": "code",
   "execution_count": 27,
   "metadata": {},
   "outputs": [],
   "source": [
    "base_url = 'https://api.ncbi.nlm.nih.gov/lit/ctxp/v1/pubmed/?format=csl&id='\n",
    "conn = 'mongodb://localhost:27017'\n",
    "client = pymongo.MongoClient(conn)"
   ]
  },
  {
   "cell_type": "code",
   "execution_count": 28,
   "metadata": {},
   "outputs": [],
   "source": [
    "#set class for data tables\n",
    "db = client.pubmed_db\n",
    "collection = db.COVID19"
   ]
  },
  {
   "cell_type": "code",
   "execution_count": 3,
   "metadata": {},
   "outputs": [],
   "source": [
    "pmids = pd.read_csv('pmids.csv')"
   ]
  },
  {
   "cell_type": "code",
   "execution_count": 5,
   "metadata": {},
   "outputs": [
    {
     "data": {
      "text/html": [
       "<div>\n",
       "<style scoped>\n",
       "    .dataframe tbody tr th:only-of-type {\n",
       "        vertical-align: middle;\n",
       "    }\n",
       "\n",
       "    .dataframe tbody tr th {\n",
       "        vertical-align: top;\n",
       "    }\n",
       "\n",
       "    .dataframe thead th {\n",
       "        text-align: right;\n",
       "    }\n",
       "</style>\n",
       "<table border=\"1\" class=\"dataframe\">\n",
       "  <thead>\n",
       "    <tr style=\"text-align: right;\">\n",
       "      <th></th>\n",
       "      <th>0</th>\n",
       "      <th>32097725</th>\n",
       "    </tr>\n",
       "  </thead>\n",
       "  <tbody>\n",
       "    <tr>\n",
       "      <th>0</th>\n",
       "      <td>1</td>\n",
       "      <td>32097202</td>\n",
       "    </tr>\n",
       "    <tr>\n",
       "      <th>1</th>\n",
       "      <td>2</td>\n",
       "      <td>32096692</td>\n",
       "    </tr>\n",
       "    <tr>\n",
       "      <th>2</th>\n",
       "      <td>3</td>\n",
       "      <td>32096611</td>\n",
       "    </tr>\n",
       "    <tr>\n",
       "      <th>3</th>\n",
       "      <td>4</td>\n",
       "      <td>32096567</td>\n",
       "    </tr>\n",
       "    <tr>\n",
       "      <th>4</th>\n",
       "      <td>5</td>\n",
       "      <td>32096564</td>\n",
       "    </tr>\n",
       "    <tr>\n",
       "      <th>...</th>\n",
       "      <td>...</td>\n",
       "      <td>...</td>\n",
       "    </tr>\n",
       "    <tr>\n",
       "      <th>94</th>\n",
       "      <td>95</td>\n",
       "      <td>32092539</td>\n",
       "    </tr>\n",
       "    <tr>\n",
       "      <th>95</th>\n",
       "      <td>96</td>\n",
       "      <td>32092483</td>\n",
       "    </tr>\n",
       "    <tr>\n",
       "      <th>96</th>\n",
       "      <td>97</td>\n",
       "      <td>32092368</td>\n",
       "    </tr>\n",
       "    <tr>\n",
       "      <th>97</th>\n",
       "      <td>98</td>\n",
       "      <td>32091533</td>\n",
       "    </tr>\n",
       "    <tr>\n",
       "      <th>98</th>\n",
       "      <td>99</td>\n",
       "      <td>32091414</td>\n",
       "    </tr>\n",
       "  </tbody>\n",
       "</table>\n",
       "<p>99 rows × 2 columns</p>\n",
       "</div>"
      ],
      "text/plain": [
       "     0  32097725\n",
       "0    1  32097202\n",
       "1    2  32096692\n",
       "2    3  32096611\n",
       "3    4  32096567\n",
       "4    5  32096564\n",
       "..  ..       ...\n",
       "94  95  32092539\n",
       "95  96  32092483\n",
       "96  97  32092368\n",
       "97  98  32091533\n",
       "98  99  32091414\n",
       "\n",
       "[99 rows x 2 columns]"
      ]
     },
     "execution_count": 5,
     "metadata": {},
     "output_type": "execute_result"
    }
   ],
   "source": [
    "pmids"
   ]
  },
  {
   "cell_type": "code",
   "execution_count": 29,
   "metadata": {},
   "outputs": [],
   "source": [
    "# #empty list for publication locations and dates\n",
    "# location = []\n",
    "# pub_date = []\n",
    "# titles = []\n",
    "for id in pmids['32097725']:\n",
    "    #query api and write locations and dates\n",
    "    response = requests.get(f'{base_url}{id}').json()\n",
    "    collection.insert_one(response)\n",
    "#     try:\n",
    "#         location.append(response['publisher-place'])\n",
    "        \n",
    "#     except:\n",
    "#         location.append('N/A')\n",
    "#     date_unf = response['issued']['date-parts'][0]\n",
    "#     year = date_unf[0]\n",
    "#     month = date_unf[1]\n",
    "#     day = date_unf[2]\n",
    "#     pub_date.append(f'{year}-{month}-{day}')\n",
    "\n",
    "#     try:\n",
    "#         titles.append(response['title'])\n",
    "#     except:\n",
    "#         titles.append('N/A')"
   ]
  },
  {
   "cell_type": "code",
   "execution_count": 30,
   "metadata": {},
   "outputs": [
    {
     "name": "stdout",
     "output_type": "stream",
     "text": [
      "{'_id': ObjectId('5e5756f02be1437d30358333'), 'source': 'PubMed', 'accessed': {'date-parts': [[2020, 2, 27]]}, 'id': 'pmid:32097202', 'title': 'Six weeks into the 2019 coronavirus disease (COVID-19) outbreak- it is time to consider strategies to impede the emergence of new zoonotic infections', 'author': [{'family': 'Harypursat', 'given': 'Vijay'}, {'family': 'Chen', 'given': 'Yao-Kai'}], 'container-title-short': 'Chin Med J (Engl)', 'container-title': 'Chinese medical journal', 'publisher-place': 'China', 'ISSN': '0366-6999', 'issued': {'date-parts': [[2020, 2, 24]]}, 'status': 'ahead-of-print', 'page': '10.1097/CM9.0000000000000760', 'PMID': '32097202', 'DOI': '10.1097/CM9.0000000000000760', 'type': 'article-journal'}\n",
      "{'_id': ObjectId('5e5756f02be1437d30358334'), 'source': 'PubMed', 'accessed': {'date-parts': [[2020, 2, 27]]}, 'id': 'pmid:32096692', 'title': 'Anesthesia Procedure of Emergency Operation for Patients with Suspected or Confirmed COVID-19', 'author': [{'family': 'Wen', 'given': 'Xianjie'}, {'family': 'Li', 'given': 'Yiqun'}], 'container-title-short': 'Surg Infect (Larchmt)', 'container-title': 'Surgical infections', 'publisher-place': 'United States', 'ISSN': '1096-2964', 'issued': {'date-parts': [[2020, 2, 25]]}, 'status': 'ahead-of-print', 'page': '10.1089/sur.2020.040', 'PMID': '32096692', 'DOI': '10.1089/sur.2020.040', 'type': 'article-journal'}\n",
      "{'_id': ObjectId('5e5756f12be1437d30358335'), 'source': 'PubMed', 'accessed': {'date-parts': [[2020, 2, 27]]}, 'id': 'pmid:32096611', 'title': '2019 novel coronavirus infection and gastrointestinal tract', 'author': [{'family': 'Gao', 'given': 'Qin Yan'}, {'family': 'Chen', 'given': 'Ying Xuan'}, {'family': 'Fang', 'given': 'Jing Yuan'}], 'container-title-short': 'J Dig Dis', 'container-title': 'Journal of digestive diseases', 'publisher-place': 'Australia', 'ISSN': '1751-2972', 'issued': {'date-parts': [[2020, 2, 25]]}, 'status': 'ahead-of-print', 'page': '10.1111/1751-2980.12851', 'PMID': '32096611', 'DOI': '10.1111/1751-2980.12851', 'type': 'article-journal'}\n",
      "{'_id': ObjectId('5e5756f12be1437d30358336'), 'source': 'PubMed', 'accessed': {'date-parts': [[2020, 2, 27]]}, 'id': 'pmid:32096567', 'title': 'Understanding of COVID-19 based on current evidence', 'author': [{'family': 'Sun', 'given': 'Pengfei'}, {'family': 'Lu', 'given': 'Xiaosheng'}, {'family': 'Xu', 'given': 'Chao'}, {'family': 'Sun', 'given': 'Wenjuan'}, {'family': 'Pan', 'given': 'Bo'}], 'container-title-short': 'J Med Virol', 'container-title': 'Journal of medical virology', 'publisher-place': 'United States', 'ISSN': '0146-6615', 'issued': {'date-parts': [[2020, 2, 25]]}, 'status': 'ahead-of-print', 'page': '10.1002/jmv.25722', 'PMID': '32096567', 'DOI': '10.1002/jmv.25722', 'type': 'article-journal'}\n",
      "{'_id': ObjectId('5e5756f12be1437d30358337'), 'source': 'PubMed', 'accessed': {'date-parts': [[2020, 2, 27]]}, 'id': 'pmid:32096564', 'title': 'Combination of RT-qPCR Testing and Clinical Features For Diagnosis of COVID-19 facilitates management of SARS-CoV-2 Outbreak', 'author': [{'family': 'Wang', 'given': 'Yishan'}, {'family': 'Kang', 'given': 'Hanyujie'}, {'family': 'Liu', 'given': 'Xuefeng'}, {'family': 'Tong', 'given': 'Zhaohui'}], 'container-title-short': 'J Med Virol', 'container-title': 'Journal of medical virology', 'publisher-place': 'United States', 'ISSN': '0146-6615', 'issued': {'date-parts': [[2020, 2, 25]]}, 'status': 'ahead-of-print', 'page': '10.1002/jmv.25721', 'PMID': '32096564', 'DOI': '10.1002/jmv.25721', 'type': 'article-journal'}\n",
      "{'_id': ObjectId('5e5756f22be1437d30358338'), 'source': 'PubMed', 'accessed': {'date-parts': [[2020, 2, 27]]}, 'id': 'pmid:32096395', 'title': 'The treatment proposal for the patients with breast diseases in the central epidemic area of 2019 coronavirus disease', 'author': [{'family': 'Zhao', 'given': 'L'}, {'family': 'Zhang', 'given': 'L'}, {'family': 'Liu', 'given': 'J W'}, {'family': 'Yang', 'given': 'Z F'}, {'family': 'Shen', 'given': 'W Z'}, {'family': 'Li', 'given': 'X R'}], 'container-title-short': 'Zhonghua Wai Ke Za Zhi', 'container-title': 'Zhonghua wai ke za zhi [Chinese journal of surgery]', 'publisher-place': 'China', 'ISSN': '0529-5815', 'issued': {'date-parts': [[2020, 2, 25]]}, 'status': 'ahead-of-print', 'page': 'E005', 'volume': '58', 'issue': '0', 'PMID': '32096395', 'DOI': '10.3760/cma.j.cn112139-20200221-00116', 'type': 'article-journal'}\n",
      "{'_id': ObjectId('5e5756f22be1437d30358339'), 'source': 'PubMed', 'accessed': {'date-parts': [[2020, 2, 27]]}, 'id': 'pmid:32096367', 'title': 'Management of corona virus disease-19 (COVID-19): the Zhejiang experience', 'author': [{'family': 'Xu', 'given': 'Kaijin'}, {'family': 'Cai', 'given': 'Hongliu'}, {'family': 'Shen', 'given': 'Yihong'}, {'family': 'Ni', 'given': 'Qin'}, {'family': 'Chen', 'given': 'Yu'}, {'family': 'Hu', 'given': 'Shaohua'}, {'family': 'Li', 'given': 'Jianping'}, {'family': 'Wang', 'given': 'Huafen'}, {'family': 'Yu', 'given': 'Liang'}, {'family': 'Huang', 'given': 'He'}, {'family': 'Qiu', 'given': 'Yunqing'}, {'family': 'Wei', 'given': 'Guoqing'}, {'family': 'Fang', 'given': 'Qiang'}, {'family': 'Zhou', 'given': 'Jianying'}, {'family': 'Sheng', 'given': 'Jifang'}, {'family': 'Liang', 'given': 'Tingbo'}, {'family': 'Li', 'given': 'Lanjuan'}], 'container-title-short': 'Zhejiang Da Xue Xue Bao Yi Xue Ban', 'container-title': 'Zhejiang da xue xue bao. Yi xue ban = Journal of Zhejiang University. Medical sciences', 'publisher-place': 'China', 'ISSN': '1008-9292', 'issued': {'date-parts': [[2020, 2, 21]]}, 'page': '0', 'volume': '49', 'issue': '1', 'PMID': '32096367', 'type': 'article-journal'}\n",
      "{'_id': ObjectId('5e5756f32be1437d3035833a'), 'source': 'PubMed', 'accessed': {'date-parts': [[2020, 2, 27]]}, 'id': 'pmid:32096366', 'title': 'Dynamic changes of chest CT imaging in patients with corona virus disease-19 (COVID-19)', 'author': [{'family': 'Wang', 'given': 'Jincheng'}, {'family': 'Liu', 'given': 'Jinpeng'}, {'family': 'Wang', 'given': 'Yuanyuan'}, {'family': 'Liu', 'given': 'Wei'}, {'family': 'Chen', 'given': 'Xiaoqun'}, {'family': 'Sun', 'given': 'Chao'}, {'family': 'Shen', 'given': 'Xiaoyong'}, {'family': 'Wang', 'given': 'Qidong'}, {'family': 'Wu', 'given': 'Yaping'}, {'family': 'Liang', 'given': 'Wenjie'}, {'family': 'Ruan', 'given': 'Lingxiang'}], 'container-title-short': 'Zhejiang Da Xue Xue Bao Yi Xue Ban', 'container-title': 'Zhejiang da xue xue bao. Yi xue ban = Journal of Zhejiang University. Medical sciences', 'publisher-place': 'China', 'ISSN': '1008-9292', 'issued': {'date-parts': [[2020, 2, 24]]}, 'page': '0', 'volume': '49', 'issue': '1', 'PMID': '32096366', 'type': 'article-journal'}\n",
      "{'_id': ObjectId('5e5756f32be1437d3035833b'), 'source': 'PubMed', 'accessed': {'date-parts': [[2020, 2, 27]]}, 'id': 'pmid:32093921', 'title': 'One world, one health: The novel coronavirus COVID-19 epidemic', 'author': [{'family': 'Trilla', 'given': 'Antoni'}], 'container-title-short': 'Med Clin (Barc)', 'container-title': 'Medicina clinica', 'publisher-place': 'Spain', 'ISSN': '0025-7753', 'issued': {'date-parts': [[2020, 2, 21]]}, 'status': 'ahead-of-print', 'page': 'S0025-7753(20)30141-X', 'PMID': '32093921', 'DOI': '10.1016/j.medcli.2020.02.002', 'type': 'article-journal'}\n",
      "{'_id': ObjectId('5e5756f32be1437d3035833c'), 'source': 'PubMed', 'accessed': {'date-parts': [[2020, 2, 27]]}, 'id': 'pmid:32093461', 'title': 'A Novel Approach of Consultation on 2019 Novel Coronavirus (COVID-19)-Related Psychological and Mental Problems: Structured Letter Therapy', 'author': [{'family': 'Xiao', 'given': 'Chunfeng'}], 'container-title-short': 'Psychiatry Investig', 'container-title': 'Psychiatry investigation', 'publisher-place': 'Korea (South)', 'ISSN': '1738-3684', 'issued': {'date-parts': [[2020, 2]]}, 'epub-date': {'date-parts': [[2020, 2, 25]]}, 'page': '175-176', 'volume': '17', 'issue': '2', 'PMID': '32093461', 'DOI': '10.30773/pi.2020.0047', 'type': 'article-journal'}\n",
      "{'_id': ObjectId('5e5756f42be1437d3035833d'), 'source': 'PubMed', 'accessed': {'date-parts': [[2020, 2, 27]]}, 'id': 'pmid:32093211', 'title': 'Characteristics of and Public Health Responses to the Coronavirus Disease 2019 Outbreak in China', 'author': [{'family': 'Deng', 'given': 'Sheng-Qun'}, {'family': 'Peng', 'given': 'Hong-Juan'}], 'container-title-short': 'J Clin Med', 'container-title': 'Journal of clinical medicine', 'publisher-place': 'Switzerland', 'ISSN': '2077-0383', 'issued': {'date-parts': [[2020, 2, 20]]}, 'page': 'E575', 'volume': '9', 'issue': '2', 'PMID': '32093211', 'DOI': '10.3390/jcm9020575', 'type': 'article-journal'}\n",
      "{'_id': ObjectId('5e5756f42be1437d3035833e'), 'source': 'PubMed', 'accessed': {'date-parts': [[2020, 2, 27]]}, 'id': 'pmid:32093043', 'title': 'Risk Assessment of Novel Coronavirus COVID-19 Outbreaks Outside China', 'author': [{'family': 'Boldog', 'given': 'Péter'}, {'family': 'Tekeli', 'given': 'Tamás'}, {'family': 'Vizi', 'given': 'Zsolt'}, {'family': 'Dénes', 'given': 'Attila'}, {'family': 'Bartha', 'given': 'Ferenc A'}, {'family': 'Röst', 'given': 'Gergely'}], 'container-title-short': 'J Clin Med', 'container-title': 'Journal of clinical medicine', 'publisher-place': 'Switzerland', 'ISSN': '2077-0383', 'issued': {'date-parts': [[2020, 2, 19]]}, 'page': 'E571', 'volume': '9', 'issue': '2', 'PMID': '32093043', 'DOI': '10.3390/jcm9020571', 'type': 'article-journal'}\n",
      "{'_id': ObjectId('5e5756f52be1437d3035833f'), 'source': 'PubMed', 'accessed': {'date-parts': [[2020, 2, 27]]}, 'id': 'pmid:32092911', 'title': 'Rigidity of the Outer Shell Predicted by a Protein Intrinsic Disorder Model Sheds Light on the COVID-19 (Wuhan-2019-nCoV) Infectivity', 'author': [{'family': 'Goh', 'given': 'Gerard Kian-Meng'}, {'family': 'Dunker', 'given': 'A Keith'}, {'family': 'Foster', 'given': 'James A'}, {'family': 'Uversky', 'given': 'Vladimir N'}], 'container-title-short': 'Biomolecules', 'container-title': 'Biomolecules', 'publisher-place': 'Switzerland', 'ISSN': '2218-273X', 'issued': {'date-parts': [[2020, 2, 19]]}, 'page': 'E331', 'volume': '10', 'issue': '2', 'PMID': '32092911', 'DOI': '10.3390/biom10020331', 'type': 'article-journal'}\n",
      "{'_id': ObjectId('5e5756f52be1437d30358340'), 'source': 'PubMed', 'accessed': {'date-parts': [[2020, 2, 27]]}, 'id': 'pmid:32092748', 'title': 'COVID-19: Real-time dissemination of scientific information to fight a public health emergency of international concern', 'author': [{'family': 'Song', 'given': 'Peipei'}, {'family': 'Karako', 'given': 'Takashi'}], 'container-title-short': 'Biosci Trends', 'container-title': 'Bioscience trends', 'publisher-place': 'Japan', 'ISSN': '1881-7815', 'issued': {'date-parts': [[2020, 2, 25]]}, 'status': 'ahead-of-print', 'page': '10.5582/bst.2020.01056', 'PMID': '32092748', 'DOI': '10.5582/bst.2020.01056', 'type': 'article-journal'}\n",
      "{'_id': ObjectId('5e5756f52be1437d30358341'), 'source': 'PubMed', 'accessed': {'date-parts': [[2020, 2, 27]]}, 'id': 'pmid:32092539', 'title': 'Is COVID-19 Receiving ADE From Other Coronaviruses?', 'author': [{'family': 'Tetro', 'given': 'Jason A'}], 'container-title-short': 'Microbes Infect', 'container-title': 'Microbes and infection', 'publisher-place': 'France', 'ISSN': '1286-4579', 'issued': {'date-parts': [[2020, 2, 21]]}, 'status': 'ahead-of-print', 'page': 'S1286-4579(20)30034-4', 'PMID': '32092539', 'DOI': '10.1016/j.micinf.2020.02.006', 'type': 'article-journal'}\n",
      "{'_id': ObjectId('5e5756f62be1437d30358342'), 'source': 'PubMed', 'accessed': {'date-parts': [[2020, 2, 27]]}, 'id': 'pmid:32092483', 'title': 'Genetic diversity and evolution of SARS-CoV-2', 'author': [{'family': 'Phan', 'given': 'Tung'}], 'container-title-short': 'Infect Genet Evol', 'container-title': 'Infection, genetics and evolution : journal of molecular epidemiology and evolutionary genetics in infectious diseases', 'publisher-place': 'Netherlands', 'ISSN': '1567-1348', 'issued': {'date-parts': [[2020, 2, 21]]}, 'status': 'ahead-of-print', 'page': '104260', 'PMID': '32092483', 'DOI': '10.1016/j.meegid.2020.104260', 'type': 'article-journal'}\n",
      "{'_id': ObjectId('5e5756f62be1437d30358343'), 'source': 'PubMed', 'accessed': {'date-parts': [[2020, 2, 27]]}, 'id': 'pmid:32092368', 'title': 'The non-contact handheld cutaneous infra-red thermometer for fever screening during the COVID-19 global emergency', 'author': [{'family': 'Aw', 'given': 'Dr Junjie'}], 'container-title-short': 'J Hosp Infect', 'container-title': 'The Journal of hospital infection', 'publisher-place': 'England', 'ISSN': '0195-6701', 'issued': {'date-parts': [[2020, 2, 21]]}, 'status': 'ahead-of-print', 'page': 'S0195-6701(20)30058-X', 'PMID': '32092368', 'DOI': '10.1016/j.jhin.2020.02.010', 'type': 'article-journal'}\n",
      "{'_id': ObjectId('5e5756f62be1437d30358344'), 'source': 'PubMed', 'accessed': {'date-parts': [[2020, 2, 27]]}, 'id': 'pmid:32091533', 'title': 'Characteristics of and Important Lessons From the Coronavirus Disease 2019 (COVID-19) Outbreak in China: Summary of a Report of 72\\u202f314 Cases From the Chinese Center for Disease Control and Prevention', 'author': [{'family': 'Wu', 'given': 'Zunyou'}, {'family': 'McGoogan', 'given': 'Jennifer M'}], 'container-title-short': 'JAMA', 'container-title': 'JAMA', 'publisher-place': 'United States', 'ISSN': '0098-7484', 'issued': {'date-parts': [[2020, 2, 24]]}, 'status': 'ahead-of-print', 'page': '10.1001/jama.2020.2648', 'PMID': '32091533', 'DOI': '10.1001/jama.2020.2648', 'type': 'article-journal'}\n",
      "{'_id': ObjectId('5e5756f72be1437d30358345'), 'source': 'PubMed', 'accessed': {'date-parts': [[2020, 2, 27]]}, 'id': 'pmid:32091414', 'title': 'Chest CT Findings in Patients with Corona Virus Disease 2019 and its Relationship with Clinical Features', 'author': [{'family': 'Wu', 'given': 'Jiong'}, {'family': 'Wu', 'given': 'Xiaojia'}, {'family': 'Zeng', 'given': 'Wenbing'}, {'family': 'Guo', 'given': 'Dajing'}, {'family': 'Fang', 'given': 'Zheng'}, {'family': 'Chen', 'given': 'Linli'}, {'family': 'Huang', 'given': 'Huizhe'}, {'family': 'Li', 'given': 'Chuanming'}], 'container-title-short': 'Invest Radiol', 'container-title': 'Investigative radiology', 'publisher-place': 'United States', 'ISSN': '0020-9996', 'issued': {'date-parts': [[2020, 2, 21]]}, 'status': 'ahead-of-print', 'page': '10.1097/RLI.0000000000000670', 'PMID': '32091414', 'DOI': '10.1097/RLI.0000000000000670', 'type': 'article-journal'}\n",
      "{'_id': ObjectId('5e5756f72be1437d30358346'), 'source': 'PubMed', 'accessed': {'date-parts': [[2020, 2, 27]]}, 'id': 'pmid:32097725', 'title': 'Estimation of the reproductive number of Novel Coronavirus (COVID-19) and the probable outbreak size on the Diamond Princess cruise ship: A data-driven analysis', 'author': [{'family': 'Zhang', 'given': 'Sheng'}, {'family': 'Diao', 'given': 'MengYuan'}, {'family': 'Yu', 'given': 'Wenbo'}, {'family': 'Pei', 'given': 'Lei'}, {'family': 'Lin', 'given': 'Zhaofen'}, {'family': 'Chen', 'given': 'Dechang'}], 'container-title-short': 'Int J Infect Dis', 'container-title': 'International journal of infectious diseases : IJID : official publication of the International Society for Infectious Diseases', 'publisher-place': 'Canada', 'ISSN': '1201-9712', 'issued': {'date-parts': [[2020, 2, 22]]}, 'status': 'ahead-of-print', 'page': 'S1201-9712(20)30091-6', 'PMID': '32097725', 'DOI': '10.1016/j.ijid.2020.02.033', 'type': 'article-journal'}\n",
      "{'_id': ObjectId('5e5756f82be1437d30358347'), 'source': 'PubMed', 'accessed': {'date-parts': [[2020, 2, 27]]}, 'id': 'pmid:32097202', 'title': 'Six weeks into the 2019 coronavirus disease (COVID-19) outbreak- it is time to consider strategies to impede the emergence of new zoonotic infections', 'author': [{'family': 'Harypursat', 'given': 'Vijay'}, {'family': 'Chen', 'given': 'Yao-Kai'}], 'container-title-short': 'Chin Med J (Engl)', 'container-title': 'Chinese medical journal', 'publisher-place': 'China', 'ISSN': '0366-6999', 'issued': {'date-parts': [[2020, 2, 24]]}, 'status': 'ahead-of-print', 'page': '10.1097/CM9.0000000000000760', 'PMID': '32097202', 'DOI': '10.1097/CM9.0000000000000760', 'type': 'article-journal'}\n",
      "{'_id': ObjectId('5e5756f82be1437d30358348'), 'source': 'PubMed', 'accessed': {'date-parts': [[2020, 2, 27]]}, 'id': 'pmid:32096692', 'title': 'Anesthesia Procedure of Emergency Operation for Patients with Suspected or Confirmed COVID-19', 'author': [{'family': 'Wen', 'given': 'Xianjie'}, {'family': 'Li', 'given': 'Yiqun'}], 'container-title-short': 'Surg Infect (Larchmt)', 'container-title': 'Surgical infections', 'publisher-place': 'United States', 'ISSN': '1096-2964', 'issued': {'date-parts': [[2020, 2, 25]]}, 'status': 'ahead-of-print', 'page': '10.1089/sur.2020.040', 'PMID': '32096692', 'DOI': '10.1089/sur.2020.040', 'type': 'article-journal'}\n",
      "{'_id': ObjectId('5e5756f82be1437d30358349'), 'source': 'PubMed', 'accessed': {'date-parts': [[2020, 2, 27]]}, 'id': 'pmid:32096611', 'title': '2019 novel coronavirus infection and gastrointestinal tract', 'author': [{'family': 'Gao', 'given': 'Qin Yan'}, {'family': 'Chen', 'given': 'Ying Xuan'}, {'family': 'Fang', 'given': 'Jing Yuan'}], 'container-title-short': 'J Dig Dis', 'container-title': 'Journal of digestive diseases', 'publisher-place': 'Australia', 'ISSN': '1751-2972', 'issued': {'date-parts': [[2020, 2, 25]]}, 'status': 'ahead-of-print', 'page': '10.1111/1751-2980.12851', 'PMID': '32096611', 'DOI': '10.1111/1751-2980.12851', 'type': 'article-journal'}\n",
      "{'_id': ObjectId('5e5756f92be1437d3035834a'), 'source': 'PubMed', 'accessed': {'date-parts': [[2020, 2, 27]]}, 'id': 'pmid:32096567', 'title': 'Understanding of COVID-19 based on current evidence', 'author': [{'family': 'Sun', 'given': 'Pengfei'}, {'family': 'Lu', 'given': 'Xiaosheng'}, {'family': 'Xu', 'given': 'Chao'}, {'family': 'Sun', 'given': 'Wenjuan'}, {'family': 'Pan', 'given': 'Bo'}], 'container-title-short': 'J Med Virol', 'container-title': 'Journal of medical virology', 'publisher-place': 'United States', 'ISSN': '0146-6615', 'issued': {'date-parts': [[2020, 2, 25]]}, 'status': 'ahead-of-print', 'page': '10.1002/jmv.25722', 'PMID': '32096567', 'DOI': '10.1002/jmv.25722', 'type': 'article-journal'}\n",
      "{'_id': ObjectId('5e5756f92be1437d3035834b'), 'source': 'PubMed', 'accessed': {'date-parts': [[2020, 2, 27]]}, 'id': 'pmid:32096564', 'title': 'Combination of RT-qPCR Testing and Clinical Features For Diagnosis of COVID-19 facilitates management of SARS-CoV-2 Outbreak', 'author': [{'family': 'Wang', 'given': 'Yishan'}, {'family': 'Kang', 'given': 'Hanyujie'}, {'family': 'Liu', 'given': 'Xuefeng'}, {'family': 'Tong', 'given': 'Zhaohui'}], 'container-title-short': 'J Med Virol', 'container-title': 'Journal of medical virology', 'publisher-place': 'United States', 'ISSN': '0146-6615', 'issued': {'date-parts': [[2020, 2, 25]]}, 'status': 'ahead-of-print', 'page': '10.1002/jmv.25721', 'PMID': '32096564', 'DOI': '10.1002/jmv.25721', 'type': 'article-journal'}\n",
      "{'_id': ObjectId('5e5756fa2be1437d3035834c'), 'source': 'PubMed', 'accessed': {'date-parts': [[2020, 2, 27]]}, 'id': 'pmid:32096395', 'title': 'The treatment proposal for the patients with breast diseases in the central epidemic area of 2019 coronavirus disease', 'author': [{'family': 'Zhao', 'given': 'L'}, {'family': 'Zhang', 'given': 'L'}, {'family': 'Liu', 'given': 'J W'}, {'family': 'Yang', 'given': 'Z F'}, {'family': 'Shen', 'given': 'W Z'}, {'family': 'Li', 'given': 'X R'}], 'container-title-short': 'Zhonghua Wai Ke Za Zhi', 'container-title': 'Zhonghua wai ke za zhi [Chinese journal of surgery]', 'publisher-place': 'China', 'ISSN': '0529-5815', 'issued': {'date-parts': [[2020, 2, 25]]}, 'status': 'ahead-of-print', 'page': 'E005', 'volume': '58', 'issue': '0', 'PMID': '32096395', 'DOI': '10.3760/cma.j.cn112139-20200221-00116', 'type': 'article-journal'}\n",
      "{'_id': ObjectId('5e5756fa2be1437d3035834d'), 'source': 'PubMed', 'accessed': {'date-parts': [[2020, 2, 27]]}, 'id': 'pmid:32096367', 'title': 'Management of corona virus disease-19 (COVID-19): the Zhejiang experience', 'author': [{'family': 'Xu', 'given': 'Kaijin'}, {'family': 'Cai', 'given': 'Hongliu'}, {'family': 'Shen', 'given': 'Yihong'}, {'family': 'Ni', 'given': 'Qin'}, {'family': 'Chen', 'given': 'Yu'}, {'family': 'Hu', 'given': 'Shaohua'}, {'family': 'Li', 'given': 'Jianping'}, {'family': 'Wang', 'given': 'Huafen'}, {'family': 'Yu', 'given': 'Liang'}, {'family': 'Huang', 'given': 'He'}, {'family': 'Qiu', 'given': 'Yunqing'}, {'family': 'Wei', 'given': 'Guoqing'}, {'family': 'Fang', 'given': 'Qiang'}, {'family': 'Zhou', 'given': 'Jianying'}, {'family': 'Sheng', 'given': 'Jifang'}, {'family': 'Liang', 'given': 'Tingbo'}, {'family': 'Li', 'given': 'Lanjuan'}], 'container-title-short': 'Zhejiang Da Xue Xue Bao Yi Xue Ban', 'container-title': 'Zhejiang da xue xue bao. Yi xue ban = Journal of Zhejiang University. Medical sciences', 'publisher-place': 'China', 'ISSN': '1008-9292', 'issued': {'date-parts': [[2020, 2, 21]]}, 'page': '0', 'volume': '49', 'issue': '1', 'PMID': '32096367', 'type': 'article-journal'}\n",
      "{'_id': ObjectId('5e5756fa2be1437d3035834e'), 'source': 'PubMed', 'accessed': {'date-parts': [[2020, 2, 27]]}, 'id': 'pmid:32096366', 'title': 'Dynamic changes of chest CT imaging in patients with corona virus disease-19 (COVID-19)', 'author': [{'family': 'Wang', 'given': 'Jincheng'}, {'family': 'Liu', 'given': 'Jinpeng'}, {'family': 'Wang', 'given': 'Yuanyuan'}, {'family': 'Liu', 'given': 'Wei'}, {'family': 'Chen', 'given': 'Xiaoqun'}, {'family': 'Sun', 'given': 'Chao'}, {'family': 'Shen', 'given': 'Xiaoyong'}, {'family': 'Wang', 'given': 'Qidong'}, {'family': 'Wu', 'given': 'Yaping'}, {'family': 'Liang', 'given': 'Wenjie'}, {'family': 'Ruan', 'given': 'Lingxiang'}], 'container-title-short': 'Zhejiang Da Xue Xue Bao Yi Xue Ban', 'container-title': 'Zhejiang da xue xue bao. Yi xue ban = Journal of Zhejiang University. Medical sciences', 'publisher-place': 'China', 'ISSN': '1008-9292', 'issued': {'date-parts': [[2020, 2, 24]]}, 'page': '0', 'volume': '49', 'issue': '1', 'PMID': '32096366', 'type': 'article-journal'}\n",
      "{'_id': ObjectId('5e5756fb2be1437d3035834f'), 'source': 'PubMed', 'accessed': {'date-parts': [[2020, 2, 27]]}, 'id': 'pmid:32093921', 'title': 'One world, one health: The novel coronavirus COVID-19 epidemic', 'author': [{'family': 'Trilla', 'given': 'Antoni'}], 'container-title-short': 'Med Clin (Barc)', 'container-title': 'Medicina clinica', 'publisher-place': 'Spain', 'ISSN': '0025-7753', 'issued': {'date-parts': [[2020, 2, 21]]}, 'status': 'ahead-of-print', 'page': 'S0025-7753(20)30141-X', 'PMID': '32093921', 'DOI': '10.1016/j.medcli.2020.02.002', 'type': 'article-journal'}\n",
      "{'_id': ObjectId('5e5756fb2be1437d30358350'), 'source': 'PubMed', 'accessed': {'date-parts': [[2020, 2, 27]]}, 'id': 'pmid:32093461', 'title': 'A Novel Approach of Consultation on 2019 Novel Coronavirus (COVID-19)-Related Psychological and Mental Problems: Structured Letter Therapy', 'author': [{'family': 'Xiao', 'given': 'Chunfeng'}], 'container-title-short': 'Psychiatry Investig', 'container-title': 'Psychiatry investigation', 'publisher-place': 'Korea (South)', 'ISSN': '1738-3684', 'issued': {'date-parts': [[2020, 2]]}, 'epub-date': {'date-parts': [[2020, 2, 25]]}, 'page': '175-176', 'volume': '17', 'issue': '2', 'PMID': '32093461', 'DOI': '10.30773/pi.2020.0047', 'type': 'article-journal'}\n",
      "{'_id': ObjectId('5e5756fc2be1437d30358351'), 'source': 'PubMed', 'accessed': {'date-parts': [[2020, 2, 27]]}, 'id': 'pmid:32093211', 'title': 'Characteristics of and Public Health Responses to the Coronavirus Disease 2019 Outbreak in China', 'author': [{'family': 'Deng', 'given': 'Sheng-Qun'}, {'family': 'Peng', 'given': 'Hong-Juan'}], 'container-title-short': 'J Clin Med', 'container-title': 'Journal of clinical medicine', 'publisher-place': 'Switzerland', 'ISSN': '2077-0383', 'issued': {'date-parts': [[2020, 2, 20]]}, 'page': 'E575', 'volume': '9', 'issue': '2', 'PMID': '32093211', 'DOI': '10.3390/jcm9020575', 'type': 'article-journal'}\n",
      "{'_id': ObjectId('5e5756fc2be1437d30358352'), 'source': 'PubMed', 'accessed': {'date-parts': [[2020, 2, 27]]}, 'id': 'pmid:32093043', 'title': 'Risk Assessment of Novel Coronavirus COVID-19 Outbreaks Outside China', 'author': [{'family': 'Boldog', 'given': 'Péter'}, {'family': 'Tekeli', 'given': 'Tamás'}, {'family': 'Vizi', 'given': 'Zsolt'}, {'family': 'Dénes', 'given': 'Attila'}, {'family': 'Bartha', 'given': 'Ferenc A'}, {'family': 'Röst', 'given': 'Gergely'}], 'container-title-short': 'J Clin Med', 'container-title': 'Journal of clinical medicine', 'publisher-place': 'Switzerland', 'ISSN': '2077-0383', 'issued': {'date-parts': [[2020, 2, 19]]}, 'page': 'E571', 'volume': '9', 'issue': '2', 'PMID': '32093043', 'DOI': '10.3390/jcm9020571', 'type': 'article-journal'}\n",
      "{'_id': ObjectId('5e5756fc2be1437d30358353'), 'source': 'PubMed', 'accessed': {'date-parts': [[2020, 2, 27]]}, 'id': 'pmid:32092911', 'title': 'Rigidity of the Outer Shell Predicted by a Protein Intrinsic Disorder Model Sheds Light on the COVID-19 (Wuhan-2019-nCoV) Infectivity', 'author': [{'family': 'Goh', 'given': 'Gerard Kian-Meng'}, {'family': 'Dunker', 'given': 'A Keith'}, {'family': 'Foster', 'given': 'James A'}, {'family': 'Uversky', 'given': 'Vladimir N'}], 'container-title-short': 'Biomolecules', 'container-title': 'Biomolecules', 'publisher-place': 'Switzerland', 'ISSN': '2218-273X', 'issued': {'date-parts': [[2020, 2, 19]]}, 'page': 'E331', 'volume': '10', 'issue': '2', 'PMID': '32092911', 'DOI': '10.3390/biom10020331', 'type': 'article-journal'}\n",
      "{'_id': ObjectId('5e5756fd2be1437d30358354'), 'source': 'PubMed', 'accessed': {'date-parts': [[2020, 2, 27]]}, 'id': 'pmid:32092748', 'title': 'COVID-19: Real-time dissemination of scientific information to fight a public health emergency of international concern', 'author': [{'family': 'Song', 'given': 'Peipei'}, {'family': 'Karako', 'given': 'Takashi'}], 'container-title-short': 'Biosci Trends', 'container-title': 'Bioscience trends', 'publisher-place': 'Japan', 'ISSN': '1881-7815', 'issued': {'date-parts': [[2020, 2, 25]]}, 'status': 'ahead-of-print', 'page': '10.5582/bst.2020.01056', 'PMID': '32092748', 'DOI': '10.5582/bst.2020.01056', 'type': 'article-journal'}\n",
      "{'_id': ObjectId('5e5756fd2be1437d30358355'), 'source': 'PubMed', 'accessed': {'date-parts': [[2020, 2, 27]]}, 'id': 'pmid:32092539', 'title': 'Is COVID-19 Receiving ADE From Other Coronaviruses?', 'author': [{'family': 'Tetro', 'given': 'Jason A'}], 'container-title-short': 'Microbes Infect', 'container-title': 'Microbes and infection', 'publisher-place': 'France', 'ISSN': '1286-4579', 'issued': {'date-parts': [[2020, 2, 21]]}, 'status': 'ahead-of-print', 'page': 'S1286-4579(20)30034-4', 'PMID': '32092539', 'DOI': '10.1016/j.micinf.2020.02.006', 'type': 'article-journal'}\n",
      "{'_id': ObjectId('5e5756fe2be1437d30358356'), 'source': 'PubMed', 'accessed': {'date-parts': [[2020, 2, 27]]}, 'id': 'pmid:32092483', 'title': 'Genetic diversity and evolution of SARS-CoV-2', 'author': [{'family': 'Phan', 'given': 'Tung'}], 'container-title-short': 'Infect Genet Evol', 'container-title': 'Infection, genetics and evolution : journal of molecular epidemiology and evolutionary genetics in infectious diseases', 'publisher-place': 'Netherlands', 'ISSN': '1567-1348', 'issued': {'date-parts': [[2020, 2, 21]]}, 'status': 'ahead-of-print', 'page': '104260', 'PMID': '32092483', 'DOI': '10.1016/j.meegid.2020.104260', 'type': 'article-journal'}\n",
      "{'_id': ObjectId('5e5756fe2be1437d30358357'), 'source': 'PubMed', 'accessed': {'date-parts': [[2020, 2, 27]]}, 'id': 'pmid:32092368', 'title': 'The non-contact handheld cutaneous infra-red thermometer for fever screening during the COVID-19 global emergency', 'author': [{'family': 'Aw', 'given': 'Dr Junjie'}], 'container-title-short': 'J Hosp Infect', 'container-title': 'The Journal of hospital infection', 'publisher-place': 'England', 'ISSN': '0195-6701', 'issued': {'date-parts': [[2020, 2, 21]]}, 'status': 'ahead-of-print', 'page': 'S0195-6701(20)30058-X', 'PMID': '32092368', 'DOI': '10.1016/j.jhin.2020.02.010', 'type': 'article-journal'}\n",
      "{'_id': ObjectId('5e5756fe2be1437d30358358'), 'source': 'PubMed', 'accessed': {'date-parts': [[2020, 2, 27]]}, 'id': 'pmid:32091533', 'title': 'Characteristics of and Important Lessons From the Coronavirus Disease 2019 (COVID-19) Outbreak in China: Summary of a Report of 72\\u202f314 Cases From the Chinese Center for Disease Control and Prevention', 'author': [{'family': 'Wu', 'given': 'Zunyou'}, {'family': 'McGoogan', 'given': 'Jennifer M'}], 'container-title-short': 'JAMA', 'container-title': 'JAMA', 'publisher-place': 'United States', 'ISSN': '0098-7484', 'issued': {'date-parts': [[2020, 2, 24]]}, 'status': 'ahead-of-print', 'page': '10.1001/jama.2020.2648', 'PMID': '32091533', 'DOI': '10.1001/jama.2020.2648', 'type': 'article-journal'}\n",
      "{'_id': ObjectId('5e5756ff2be1437d30358359'), 'source': 'PubMed', 'accessed': {'date-parts': [[2020, 2, 27]]}, 'id': 'pmid:32091414', 'title': 'Chest CT Findings in Patients with Corona Virus Disease 2019 and its Relationship with Clinical Features', 'author': [{'family': 'Wu', 'given': 'Jiong'}, {'family': 'Wu', 'given': 'Xiaojia'}, {'family': 'Zeng', 'given': 'Wenbing'}, {'family': 'Guo', 'given': 'Dajing'}, {'family': 'Fang', 'given': 'Zheng'}, {'family': 'Chen', 'given': 'Linli'}, {'family': 'Huang', 'given': 'Huizhe'}, {'family': 'Li', 'given': 'Chuanming'}], 'container-title-short': 'Invest Radiol', 'container-title': 'Investigative radiology', 'publisher-place': 'United States', 'ISSN': '0020-9996', 'issued': {'date-parts': [[2020, 2, 21]]}, 'status': 'ahead-of-print', 'page': '10.1097/RLI.0000000000000670', 'PMID': '32091414', 'DOI': '10.1097/RLI.0000000000000670', 'type': 'article-journal'}\n",
      "{'_id': ObjectId('5e5756ff2be1437d3035835a'), 'source': 'PubMed', 'accessed': {'date-parts': [[2020, 2, 27]]}, 'id': 'pmid:32097725', 'title': 'Estimation of the reproductive number of Novel Coronavirus (COVID-19) and the probable outbreak size on the Diamond Princess cruise ship: A data-driven analysis', 'author': [{'family': 'Zhang', 'given': 'Sheng'}, {'family': 'Diao', 'given': 'MengYuan'}, {'family': 'Yu', 'given': 'Wenbo'}, {'family': 'Pei', 'given': 'Lei'}, {'family': 'Lin', 'given': 'Zhaofen'}, {'family': 'Chen', 'given': 'Dechang'}], 'container-title-short': 'Int J Infect Dis', 'container-title': 'International journal of infectious diseases : IJID : official publication of the International Society for Infectious Diseases', 'publisher-place': 'Canada', 'ISSN': '1201-9712', 'issued': {'date-parts': [[2020, 2, 22]]}, 'status': 'ahead-of-print', 'page': 'S1201-9712(20)30091-6', 'PMID': '32097725', 'DOI': '10.1016/j.ijid.2020.02.033', 'type': 'article-journal'}\n",
      "{'_id': ObjectId('5e5757002be1437d3035835b'), 'source': 'PubMed', 'accessed': {'date-parts': [[2020, 2, 27]]}, 'id': 'pmid:32097202', 'title': 'Six weeks into the 2019 coronavirus disease (COVID-19) outbreak- it is time to consider strategies to impede the emergence of new zoonotic infections', 'author': [{'family': 'Harypursat', 'given': 'Vijay'}, {'family': 'Chen', 'given': 'Yao-Kai'}], 'container-title-short': 'Chin Med J (Engl)', 'container-title': 'Chinese medical journal', 'publisher-place': 'China', 'ISSN': '0366-6999', 'issued': {'date-parts': [[2020, 2, 24]]}, 'status': 'ahead-of-print', 'page': '10.1097/CM9.0000000000000760', 'PMID': '32097202', 'DOI': '10.1097/CM9.0000000000000760', 'type': 'article-journal'}\n",
      "{'_id': ObjectId('5e5757002be1437d3035835c'), 'source': 'PubMed', 'accessed': {'date-parts': [[2020, 2, 27]]}, 'id': 'pmid:32096692', 'title': 'Anesthesia Procedure of Emergency Operation for Patients with Suspected or Confirmed COVID-19', 'author': [{'family': 'Wen', 'given': 'Xianjie'}, {'family': 'Li', 'given': 'Yiqun'}], 'container-title-short': 'Surg Infect (Larchmt)', 'container-title': 'Surgical infections', 'publisher-place': 'United States', 'ISSN': '1096-2964', 'issued': {'date-parts': [[2020, 2, 25]]}, 'status': 'ahead-of-print', 'page': '10.1089/sur.2020.040', 'PMID': '32096692', 'DOI': '10.1089/sur.2020.040', 'type': 'article-journal'}\n",
      "{'_id': ObjectId('5e5757002be1437d3035835d'), 'source': 'PubMed', 'accessed': {'date-parts': [[2020, 2, 27]]}, 'id': 'pmid:32096611', 'title': '2019 novel coronavirus infection and gastrointestinal tract', 'author': [{'family': 'Gao', 'given': 'Qin Yan'}, {'family': 'Chen', 'given': 'Ying Xuan'}, {'family': 'Fang', 'given': 'Jing Yuan'}], 'container-title-short': 'J Dig Dis', 'container-title': 'Journal of digestive diseases', 'publisher-place': 'Australia', 'ISSN': '1751-2972', 'issued': {'date-parts': [[2020, 2, 25]]}, 'status': 'ahead-of-print', 'page': '10.1111/1751-2980.12851', 'PMID': '32096611', 'DOI': '10.1111/1751-2980.12851', 'type': 'article-journal'}\n",
      "{'_id': ObjectId('5e5757012be1437d3035835e'), 'source': 'PubMed', 'accessed': {'date-parts': [[2020, 2, 27]]}, 'id': 'pmid:32096567', 'title': 'Understanding of COVID-19 based on current evidence', 'author': [{'family': 'Sun', 'given': 'Pengfei'}, {'family': 'Lu', 'given': 'Xiaosheng'}, {'family': 'Xu', 'given': 'Chao'}, {'family': 'Sun', 'given': 'Wenjuan'}, {'family': 'Pan', 'given': 'Bo'}], 'container-title-short': 'J Med Virol', 'container-title': 'Journal of medical virology', 'publisher-place': 'United States', 'ISSN': '0146-6615', 'issued': {'date-parts': [[2020, 2, 25]]}, 'status': 'ahead-of-print', 'page': '10.1002/jmv.25722', 'PMID': '32096567', 'DOI': '10.1002/jmv.25722', 'type': 'article-journal'}\n",
      "{'_id': ObjectId('5e5757012be1437d3035835f'), 'source': 'PubMed', 'accessed': {'date-parts': [[2020, 2, 27]]}, 'id': 'pmid:32096564', 'title': 'Combination of RT-qPCR Testing and Clinical Features For Diagnosis of COVID-19 facilitates management of SARS-CoV-2 Outbreak', 'author': [{'family': 'Wang', 'given': 'Yishan'}, {'family': 'Kang', 'given': 'Hanyujie'}, {'family': 'Liu', 'given': 'Xuefeng'}, {'family': 'Tong', 'given': 'Zhaohui'}], 'container-title-short': 'J Med Virol', 'container-title': 'Journal of medical virology', 'publisher-place': 'United States', 'ISSN': '0146-6615', 'issued': {'date-parts': [[2020, 2, 25]]}, 'status': 'ahead-of-print', 'page': '10.1002/jmv.25721', 'PMID': '32096564', 'DOI': '10.1002/jmv.25721', 'type': 'article-journal'}\n",
      "{'_id': ObjectId('5e5757022be1437d30358360'), 'source': 'PubMed', 'accessed': {'date-parts': [[2020, 2, 27]]}, 'id': 'pmid:32096395', 'title': 'The treatment proposal for the patients with breast diseases in the central epidemic area of 2019 coronavirus disease', 'author': [{'family': 'Zhao', 'given': 'L'}, {'family': 'Zhang', 'given': 'L'}, {'family': 'Liu', 'given': 'J W'}, {'family': 'Yang', 'given': 'Z F'}, {'family': 'Shen', 'given': 'W Z'}, {'family': 'Li', 'given': 'X R'}], 'container-title-short': 'Zhonghua Wai Ke Za Zhi', 'container-title': 'Zhonghua wai ke za zhi [Chinese journal of surgery]', 'publisher-place': 'China', 'ISSN': '0529-5815', 'issued': {'date-parts': [[2020, 2, 25]]}, 'status': 'ahead-of-print', 'page': 'E005', 'volume': '58', 'issue': '0', 'PMID': '32096395', 'DOI': '10.3760/cma.j.cn112139-20200221-00116', 'type': 'article-journal'}\n",
      "{'_id': ObjectId('5e5757022be1437d30358361'), 'source': 'PubMed', 'accessed': {'date-parts': [[2020, 2, 27]]}, 'id': 'pmid:32096367', 'title': 'Management of corona virus disease-19 (COVID-19): the Zhejiang experience', 'author': [{'family': 'Xu', 'given': 'Kaijin'}, {'family': 'Cai', 'given': 'Hongliu'}, {'family': 'Shen', 'given': 'Yihong'}, {'family': 'Ni', 'given': 'Qin'}, {'family': 'Chen', 'given': 'Yu'}, {'family': 'Hu', 'given': 'Shaohua'}, {'family': 'Li', 'given': 'Jianping'}, {'family': 'Wang', 'given': 'Huafen'}, {'family': 'Yu', 'given': 'Liang'}, {'family': 'Huang', 'given': 'He'}, {'family': 'Qiu', 'given': 'Yunqing'}, {'family': 'Wei', 'given': 'Guoqing'}, {'family': 'Fang', 'given': 'Qiang'}, {'family': 'Zhou', 'given': 'Jianying'}, {'family': 'Sheng', 'given': 'Jifang'}, {'family': 'Liang', 'given': 'Tingbo'}, {'family': 'Li', 'given': 'Lanjuan'}], 'container-title-short': 'Zhejiang Da Xue Xue Bao Yi Xue Ban', 'container-title': 'Zhejiang da xue xue bao. Yi xue ban = Journal of Zhejiang University. Medical sciences', 'publisher-place': 'China', 'ISSN': '1008-9292', 'issued': {'date-parts': [[2020, 2, 21]]}, 'page': '0', 'volume': '49', 'issue': '1', 'PMID': '32096367', 'type': 'article-journal'}\n",
      "{'_id': ObjectId('5e5757022be1437d30358362'), 'source': 'PubMed', 'accessed': {'date-parts': [[2020, 2, 27]]}, 'id': 'pmid:32096366', 'title': 'Dynamic changes of chest CT imaging in patients with corona virus disease-19 (COVID-19)', 'author': [{'family': 'Wang', 'given': 'Jincheng'}, {'family': 'Liu', 'given': 'Jinpeng'}, {'family': 'Wang', 'given': 'Yuanyuan'}, {'family': 'Liu', 'given': 'Wei'}, {'family': 'Chen', 'given': 'Xiaoqun'}, {'family': 'Sun', 'given': 'Chao'}, {'family': 'Shen', 'given': 'Xiaoyong'}, {'family': 'Wang', 'given': 'Qidong'}, {'family': 'Wu', 'given': 'Yaping'}, {'family': 'Liang', 'given': 'Wenjie'}, {'family': 'Ruan', 'given': 'Lingxiang'}], 'container-title-short': 'Zhejiang Da Xue Xue Bao Yi Xue Ban', 'container-title': 'Zhejiang da xue xue bao. Yi xue ban = Journal of Zhejiang University. Medical sciences', 'publisher-place': 'China', 'ISSN': '1008-9292', 'issued': {'date-parts': [[2020, 2, 24]]}, 'page': '0', 'volume': '49', 'issue': '1', 'PMID': '32096366', 'type': 'article-journal'}\n",
      "{'_id': ObjectId('5e5757032be1437d30358363'), 'source': 'PubMed', 'accessed': {'date-parts': [[2020, 2, 27]]}, 'id': 'pmid:32093921', 'title': 'One world, one health: The novel coronavirus COVID-19 epidemic', 'author': [{'family': 'Trilla', 'given': 'Antoni'}], 'container-title-short': 'Med Clin (Barc)', 'container-title': 'Medicina clinica', 'publisher-place': 'Spain', 'ISSN': '0025-7753', 'issued': {'date-parts': [[2020, 2, 21]]}, 'status': 'ahead-of-print', 'page': 'S0025-7753(20)30141-X', 'PMID': '32093921', 'DOI': '10.1016/j.medcli.2020.02.002', 'type': 'article-journal'}\n",
      "{'_id': ObjectId('5e5757032be1437d30358364'), 'source': 'PubMed', 'accessed': {'date-parts': [[2020, 2, 27]]}, 'id': 'pmid:32093461', 'title': 'A Novel Approach of Consultation on 2019 Novel Coronavirus (COVID-19)-Related Psychological and Mental Problems: Structured Letter Therapy', 'author': [{'family': 'Xiao', 'given': 'Chunfeng'}], 'container-title-short': 'Psychiatry Investig', 'container-title': 'Psychiatry investigation', 'publisher-place': 'Korea (South)', 'ISSN': '1738-3684', 'issued': {'date-parts': [[2020, 2]]}, 'epub-date': {'date-parts': [[2020, 2, 25]]}, 'page': '175-176', 'volume': '17', 'issue': '2', 'PMID': '32093461', 'DOI': '10.30773/pi.2020.0047', 'type': 'article-journal'}\n",
      "{'_id': ObjectId('5e5757042be1437d30358365'), 'source': 'PubMed', 'accessed': {'date-parts': [[2020, 2, 27]]}, 'id': 'pmid:32093211', 'title': 'Characteristics of and Public Health Responses to the Coronavirus Disease 2019 Outbreak in China', 'author': [{'family': 'Deng', 'given': 'Sheng-Qun'}, {'family': 'Peng', 'given': 'Hong-Juan'}], 'container-title-short': 'J Clin Med', 'container-title': 'Journal of clinical medicine', 'publisher-place': 'Switzerland', 'ISSN': '2077-0383', 'issued': {'date-parts': [[2020, 2, 20]]}, 'page': 'E575', 'volume': '9', 'issue': '2', 'PMID': '32093211', 'DOI': '10.3390/jcm9020575', 'type': 'article-journal'}\n",
      "{'_id': ObjectId('5e5757042be1437d30358366'), 'source': 'PubMed', 'accessed': {'date-parts': [[2020, 2, 27]]}, 'id': 'pmid:32093043', 'title': 'Risk Assessment of Novel Coronavirus COVID-19 Outbreaks Outside China', 'author': [{'family': 'Boldog', 'given': 'Péter'}, {'family': 'Tekeli', 'given': 'Tamás'}, {'family': 'Vizi', 'given': 'Zsolt'}, {'family': 'Dénes', 'given': 'Attila'}, {'family': 'Bartha', 'given': 'Ferenc A'}, {'family': 'Röst', 'given': 'Gergely'}], 'container-title-short': 'J Clin Med', 'container-title': 'Journal of clinical medicine', 'publisher-place': 'Switzerland', 'ISSN': '2077-0383', 'issued': {'date-parts': [[2020, 2, 19]]}, 'page': 'E571', 'volume': '9', 'issue': '2', 'PMID': '32093043', 'DOI': '10.3390/jcm9020571', 'type': 'article-journal'}\n",
      "{'_id': ObjectId('5e5757052be1437d30358367'), 'source': 'PubMed', 'accessed': {'date-parts': [[2020, 2, 27]]}, 'id': 'pmid:32092911', 'title': 'Rigidity of the Outer Shell Predicted by a Protein Intrinsic Disorder Model Sheds Light on the COVID-19 (Wuhan-2019-nCoV) Infectivity', 'author': [{'family': 'Goh', 'given': 'Gerard Kian-Meng'}, {'family': 'Dunker', 'given': 'A Keith'}, {'family': 'Foster', 'given': 'James A'}, {'family': 'Uversky', 'given': 'Vladimir N'}], 'container-title-short': 'Biomolecules', 'container-title': 'Biomolecules', 'publisher-place': 'Switzerland', 'ISSN': '2218-273X', 'issued': {'date-parts': [[2020, 2, 19]]}, 'page': 'E331', 'volume': '10', 'issue': '2', 'PMID': '32092911', 'DOI': '10.3390/biom10020331', 'type': 'article-journal'}\n",
      "{'_id': ObjectId('5e5757052be1437d30358368'), 'source': 'PubMed', 'accessed': {'date-parts': [[2020, 2, 27]]}, 'id': 'pmid:32092748', 'title': 'COVID-19: Real-time dissemination of scientific information to fight a public health emergency of international concern', 'author': [{'family': 'Song', 'given': 'Peipei'}, {'family': 'Karako', 'given': 'Takashi'}], 'container-title-short': 'Biosci Trends', 'container-title': 'Bioscience trends', 'publisher-place': 'Japan', 'ISSN': '1881-7815', 'issued': {'date-parts': [[2020, 2, 25]]}, 'status': 'ahead-of-print', 'page': '10.5582/bst.2020.01056', 'PMID': '32092748', 'DOI': '10.5582/bst.2020.01056', 'type': 'article-journal'}\n",
      "{'_id': ObjectId('5e5757062be1437d30358369'), 'source': 'PubMed', 'accessed': {'date-parts': [[2020, 2, 27]]}, 'id': 'pmid:32092539', 'title': 'Is COVID-19 Receiving ADE From Other Coronaviruses?', 'author': [{'family': 'Tetro', 'given': 'Jason A'}], 'container-title-short': 'Microbes Infect', 'container-title': 'Microbes and infection', 'publisher-place': 'France', 'ISSN': '1286-4579', 'issued': {'date-parts': [[2020, 2, 21]]}, 'status': 'ahead-of-print', 'page': 'S1286-4579(20)30034-4', 'PMID': '32092539', 'DOI': '10.1016/j.micinf.2020.02.006', 'type': 'article-journal'}\n",
      "{'_id': ObjectId('5e5757062be1437d3035836a'), 'source': 'PubMed', 'accessed': {'date-parts': [[2020, 2, 27]]}, 'id': 'pmid:32092483', 'title': 'Genetic diversity and evolution of SARS-CoV-2', 'author': [{'family': 'Phan', 'given': 'Tung'}], 'container-title-short': 'Infect Genet Evol', 'container-title': 'Infection, genetics and evolution : journal of molecular epidemiology and evolutionary genetics in infectious diseases', 'publisher-place': 'Netherlands', 'ISSN': '1567-1348', 'issued': {'date-parts': [[2020, 2, 21]]}, 'status': 'ahead-of-print', 'page': '104260', 'PMID': '32092483', 'DOI': '10.1016/j.meegid.2020.104260', 'type': 'article-journal'}\n",
      "{'_id': ObjectId('5e5757072be1437d3035836b'), 'source': 'PubMed', 'accessed': {'date-parts': [[2020, 2, 27]]}, 'id': 'pmid:32092368', 'title': 'The non-contact handheld cutaneous infra-red thermometer for fever screening during the COVID-19 global emergency', 'author': [{'family': 'Aw', 'given': 'Dr Junjie'}], 'container-title-short': 'J Hosp Infect', 'container-title': 'The Journal of hospital infection', 'publisher-place': 'England', 'ISSN': '0195-6701', 'issued': {'date-parts': [[2020, 2, 21]]}, 'status': 'ahead-of-print', 'page': 'S0195-6701(20)30058-X', 'PMID': '32092368', 'DOI': '10.1016/j.jhin.2020.02.010', 'type': 'article-journal'}\n",
      "{'_id': ObjectId('5e5757072be1437d3035836c'), 'source': 'PubMed', 'accessed': {'date-parts': [[2020, 2, 27]]}, 'id': 'pmid:32091533', 'title': 'Characteristics of and Important Lessons From the Coronavirus Disease 2019 (COVID-19) Outbreak in China: Summary of a Report of 72\\u202f314 Cases From the Chinese Center for Disease Control and Prevention', 'author': [{'family': 'Wu', 'given': 'Zunyou'}, {'family': 'McGoogan', 'given': 'Jennifer M'}], 'container-title-short': 'JAMA', 'container-title': 'JAMA', 'publisher-place': 'United States', 'ISSN': '0098-7484', 'issued': {'date-parts': [[2020, 2, 24]]}, 'status': 'ahead-of-print', 'page': '10.1001/jama.2020.2648', 'PMID': '32091533', 'DOI': '10.1001/jama.2020.2648', 'type': 'article-journal'}\n",
      "{'_id': ObjectId('5e5757082be1437d3035836d'), 'source': 'PubMed', 'accessed': {'date-parts': [[2020, 2, 27]]}, 'id': 'pmid:32091414', 'title': 'Chest CT Findings in Patients with Corona Virus Disease 2019 and its Relationship with Clinical Features', 'author': [{'family': 'Wu', 'given': 'Jiong'}, {'family': 'Wu', 'given': 'Xiaojia'}, {'family': 'Zeng', 'given': 'Wenbing'}, {'family': 'Guo', 'given': 'Dajing'}, {'family': 'Fang', 'given': 'Zheng'}, {'family': 'Chen', 'given': 'Linli'}, {'family': 'Huang', 'given': 'Huizhe'}, {'family': 'Li', 'given': 'Chuanming'}], 'container-title-short': 'Invest Radiol', 'container-title': 'Investigative radiology', 'publisher-place': 'United States', 'ISSN': '0020-9996', 'issued': {'date-parts': [[2020, 2, 21]]}, 'status': 'ahead-of-print', 'page': '10.1097/RLI.0000000000000670', 'PMID': '32091414', 'DOI': '10.1097/RLI.0000000000000670', 'type': 'article-journal'}\n",
      "{'_id': ObjectId('5e5757082be1437d3035836e'), 'source': 'PubMed', 'accessed': {'date-parts': [[2020, 2, 27]]}, 'id': 'pmid:32097725', 'title': 'Estimation of the reproductive number of Novel Coronavirus (COVID-19) and the probable outbreak size on the Diamond Princess cruise ship: A data-driven analysis', 'author': [{'family': 'Zhang', 'given': 'Sheng'}, {'family': 'Diao', 'given': 'MengYuan'}, {'family': 'Yu', 'given': 'Wenbo'}, {'family': 'Pei', 'given': 'Lei'}, {'family': 'Lin', 'given': 'Zhaofen'}, {'family': 'Chen', 'given': 'Dechang'}], 'container-title-short': 'Int J Infect Dis', 'container-title': 'International journal of infectious diseases : IJID : official publication of the International Society for Infectious Diseases', 'publisher-place': 'Canada', 'ISSN': '1201-9712', 'issued': {'date-parts': [[2020, 2, 22]]}, 'status': 'ahead-of-print', 'page': 'S1201-9712(20)30091-6', 'PMID': '32097725', 'DOI': '10.1016/j.ijid.2020.02.033', 'type': 'article-journal'}\n",
      "{'_id': ObjectId('5e5757082be1437d3035836f'), 'source': 'PubMed', 'accessed': {'date-parts': [[2020, 2, 27]]}, 'id': 'pmid:32097202', 'title': 'Six weeks into the 2019 coronavirus disease (COVID-19) outbreak- it is time to consider strategies to impede the emergence of new zoonotic infections', 'author': [{'family': 'Harypursat', 'given': 'Vijay'}, {'family': 'Chen', 'given': 'Yao-Kai'}], 'container-title-short': 'Chin Med J (Engl)', 'container-title': 'Chinese medical journal', 'publisher-place': 'China', 'ISSN': '0366-6999', 'issued': {'date-parts': [[2020, 2, 24]]}, 'status': 'ahead-of-print', 'page': '10.1097/CM9.0000000000000760', 'PMID': '32097202', 'DOI': '10.1097/CM9.0000000000000760', 'type': 'article-journal'}\n",
      "{'_id': ObjectId('5e5757092be1437d30358370'), 'source': 'PubMed', 'accessed': {'date-parts': [[2020, 2, 27]]}, 'id': 'pmid:32096692', 'title': 'Anesthesia Procedure of Emergency Operation for Patients with Suspected or Confirmed COVID-19', 'author': [{'family': 'Wen', 'given': 'Xianjie'}, {'family': 'Li', 'given': 'Yiqun'}], 'container-title-short': 'Surg Infect (Larchmt)', 'container-title': 'Surgical infections', 'publisher-place': 'United States', 'ISSN': '1096-2964', 'issued': {'date-parts': [[2020, 2, 25]]}, 'status': 'ahead-of-print', 'page': '10.1089/sur.2020.040', 'PMID': '32096692', 'DOI': '10.1089/sur.2020.040', 'type': 'article-journal'}\n",
      "{'_id': ObjectId('5e5757092be1437d30358371'), 'source': 'PubMed', 'accessed': {'date-parts': [[2020, 2, 27]]}, 'id': 'pmid:32096611', 'title': '2019 novel coronavirus infection and gastrointestinal tract', 'author': [{'family': 'Gao', 'given': 'Qin Yan'}, {'family': 'Chen', 'given': 'Ying Xuan'}, {'family': 'Fang', 'given': 'Jing Yuan'}], 'container-title-short': 'J Dig Dis', 'container-title': 'Journal of digestive diseases', 'publisher-place': 'Australia', 'ISSN': '1751-2972', 'issued': {'date-parts': [[2020, 2, 25]]}, 'status': 'ahead-of-print', 'page': '10.1111/1751-2980.12851', 'PMID': '32096611', 'DOI': '10.1111/1751-2980.12851', 'type': 'article-journal'}\n",
      "{'_id': ObjectId('5e57570a2be1437d30358372'), 'source': 'PubMed', 'accessed': {'date-parts': [[2020, 2, 27]]}, 'id': 'pmid:32096567', 'title': 'Understanding of COVID-19 based on current evidence', 'author': [{'family': 'Sun', 'given': 'Pengfei'}, {'family': 'Lu', 'given': 'Xiaosheng'}, {'family': 'Xu', 'given': 'Chao'}, {'family': 'Sun', 'given': 'Wenjuan'}, {'family': 'Pan', 'given': 'Bo'}], 'container-title-short': 'J Med Virol', 'container-title': 'Journal of medical virology', 'publisher-place': 'United States', 'ISSN': '0146-6615', 'issued': {'date-parts': [[2020, 2, 25]]}, 'status': 'ahead-of-print', 'page': '10.1002/jmv.25722', 'PMID': '32096567', 'DOI': '10.1002/jmv.25722', 'type': 'article-journal'}\n",
      "{'_id': ObjectId('5e57570a2be1437d30358373'), 'source': 'PubMed', 'accessed': {'date-parts': [[2020, 2, 27]]}, 'id': 'pmid:32096564', 'title': 'Combination of RT-qPCR Testing and Clinical Features For Diagnosis of COVID-19 facilitates management of SARS-CoV-2 Outbreak', 'author': [{'family': 'Wang', 'given': 'Yishan'}, {'family': 'Kang', 'given': 'Hanyujie'}, {'family': 'Liu', 'given': 'Xuefeng'}, {'family': 'Tong', 'given': 'Zhaohui'}], 'container-title-short': 'J Med Virol', 'container-title': 'Journal of medical virology', 'publisher-place': 'United States', 'ISSN': '0146-6615', 'issued': {'date-parts': [[2020, 2, 25]]}, 'status': 'ahead-of-print', 'page': '10.1002/jmv.25721', 'PMID': '32096564', 'DOI': '10.1002/jmv.25721', 'type': 'article-journal'}\n",
      "{'_id': ObjectId('5e57570b2be1437d30358374'), 'source': 'PubMed', 'accessed': {'date-parts': [[2020, 2, 27]]}, 'id': 'pmid:32096395', 'title': 'The treatment proposal for the patients with breast diseases in the central epidemic area of 2019 coronavirus disease', 'author': [{'family': 'Zhao', 'given': 'L'}, {'family': 'Zhang', 'given': 'L'}, {'family': 'Liu', 'given': 'J W'}, {'family': 'Yang', 'given': 'Z F'}, {'family': 'Shen', 'given': 'W Z'}, {'family': 'Li', 'given': 'X R'}], 'container-title-short': 'Zhonghua Wai Ke Za Zhi', 'container-title': 'Zhonghua wai ke za zhi [Chinese journal of surgery]', 'publisher-place': 'China', 'ISSN': '0529-5815', 'issued': {'date-parts': [[2020, 2, 25]]}, 'status': 'ahead-of-print', 'page': 'E005', 'volume': '58', 'issue': '0', 'PMID': '32096395', 'DOI': '10.3760/cma.j.cn112139-20200221-00116', 'type': 'article-journal'}\n",
      "{'_id': ObjectId('5e57570b2be1437d30358375'), 'source': 'PubMed', 'accessed': {'date-parts': [[2020, 2, 27]]}, 'id': 'pmid:32096367', 'title': 'Management of corona virus disease-19 (COVID-19): the Zhejiang experience', 'author': [{'family': 'Xu', 'given': 'Kaijin'}, {'family': 'Cai', 'given': 'Hongliu'}, {'family': 'Shen', 'given': 'Yihong'}, {'family': 'Ni', 'given': 'Qin'}, {'family': 'Chen', 'given': 'Yu'}, {'family': 'Hu', 'given': 'Shaohua'}, {'family': 'Li', 'given': 'Jianping'}, {'family': 'Wang', 'given': 'Huafen'}, {'family': 'Yu', 'given': 'Liang'}, {'family': 'Huang', 'given': 'He'}, {'family': 'Qiu', 'given': 'Yunqing'}, {'family': 'Wei', 'given': 'Guoqing'}, {'family': 'Fang', 'given': 'Qiang'}, {'family': 'Zhou', 'given': 'Jianying'}, {'family': 'Sheng', 'given': 'Jifang'}, {'family': 'Liang', 'given': 'Tingbo'}, {'family': 'Li', 'given': 'Lanjuan'}], 'container-title-short': 'Zhejiang Da Xue Xue Bao Yi Xue Ban', 'container-title': 'Zhejiang da xue xue bao. Yi xue ban = Journal of Zhejiang University. Medical sciences', 'publisher-place': 'China', 'ISSN': '1008-9292', 'issued': {'date-parts': [[2020, 2, 21]]}, 'page': '0', 'volume': '49', 'issue': '1', 'PMID': '32096367', 'type': 'article-journal'}\n",
      "{'_id': ObjectId('5e57570b2be1437d30358376'), 'source': 'PubMed', 'accessed': {'date-parts': [[2020, 2, 27]]}, 'id': 'pmid:32096366', 'title': 'Dynamic changes of chest CT imaging in patients with corona virus disease-19 (COVID-19)', 'author': [{'family': 'Wang', 'given': 'Jincheng'}, {'family': 'Liu', 'given': 'Jinpeng'}, {'family': 'Wang', 'given': 'Yuanyuan'}, {'family': 'Liu', 'given': 'Wei'}, {'family': 'Chen', 'given': 'Xiaoqun'}, {'family': 'Sun', 'given': 'Chao'}, {'family': 'Shen', 'given': 'Xiaoyong'}, {'family': 'Wang', 'given': 'Qidong'}, {'family': 'Wu', 'given': 'Yaping'}, {'family': 'Liang', 'given': 'Wenjie'}, {'family': 'Ruan', 'given': 'Lingxiang'}], 'container-title-short': 'Zhejiang Da Xue Xue Bao Yi Xue Ban', 'container-title': 'Zhejiang da xue xue bao. Yi xue ban = Journal of Zhejiang University. Medical sciences', 'publisher-place': 'China', 'ISSN': '1008-9292', 'issued': {'date-parts': [[2020, 2, 24]]}, 'page': '0', 'volume': '49', 'issue': '1', 'PMID': '32096366', 'type': 'article-journal'}\n",
      "{'_id': ObjectId('5e57570c2be1437d30358377'), 'source': 'PubMed', 'accessed': {'date-parts': [[2020, 2, 27]]}, 'id': 'pmid:32093921', 'title': 'One world, one health: The novel coronavirus COVID-19 epidemic', 'author': [{'family': 'Trilla', 'given': 'Antoni'}], 'container-title-short': 'Med Clin (Barc)', 'container-title': 'Medicina clinica', 'publisher-place': 'Spain', 'ISSN': '0025-7753', 'issued': {'date-parts': [[2020, 2, 21]]}, 'status': 'ahead-of-print', 'page': 'S0025-7753(20)30141-X', 'PMID': '32093921', 'DOI': '10.1016/j.medcli.2020.02.002', 'type': 'article-journal'}\n",
      "{'_id': ObjectId('5e57570c2be1437d30358378'), 'source': 'PubMed', 'accessed': {'date-parts': [[2020, 2, 27]]}, 'id': 'pmid:32093461', 'title': 'A Novel Approach of Consultation on 2019 Novel Coronavirus (COVID-19)-Related Psychological and Mental Problems: Structured Letter Therapy', 'author': [{'family': 'Xiao', 'given': 'Chunfeng'}], 'container-title-short': 'Psychiatry Investig', 'container-title': 'Psychiatry investigation', 'publisher-place': 'Korea (South)', 'ISSN': '1738-3684', 'issued': {'date-parts': [[2020, 2]]}, 'epub-date': {'date-parts': [[2020, 2, 25]]}, 'page': '175-176', 'volume': '17', 'issue': '2', 'PMID': '32093461', 'DOI': '10.30773/pi.2020.0047', 'type': 'article-journal'}\n",
      "{'_id': ObjectId('5e57570d2be1437d30358379'), 'source': 'PubMed', 'accessed': {'date-parts': [[2020, 2, 27]]}, 'id': 'pmid:32093211', 'title': 'Characteristics of and Public Health Responses to the Coronavirus Disease 2019 Outbreak in China', 'author': [{'family': 'Deng', 'given': 'Sheng-Qun'}, {'family': 'Peng', 'given': 'Hong-Juan'}], 'container-title-short': 'J Clin Med', 'container-title': 'Journal of clinical medicine', 'publisher-place': 'Switzerland', 'ISSN': '2077-0383', 'issued': {'date-parts': [[2020, 2, 20]]}, 'page': 'E575', 'volume': '9', 'issue': '2', 'PMID': '32093211', 'DOI': '10.3390/jcm9020575', 'type': 'article-journal'}\n",
      "{'_id': ObjectId('5e57570d2be1437d3035837a'), 'source': 'PubMed', 'accessed': {'date-parts': [[2020, 2, 27]]}, 'id': 'pmid:32093043', 'title': 'Risk Assessment of Novel Coronavirus COVID-19 Outbreaks Outside China', 'author': [{'family': 'Boldog', 'given': 'Péter'}, {'family': 'Tekeli', 'given': 'Tamás'}, {'family': 'Vizi', 'given': 'Zsolt'}, {'family': 'Dénes', 'given': 'Attila'}, {'family': 'Bartha', 'given': 'Ferenc A'}, {'family': 'Röst', 'given': 'Gergely'}], 'container-title-short': 'J Clin Med', 'container-title': 'Journal of clinical medicine', 'publisher-place': 'Switzerland', 'ISSN': '2077-0383', 'issued': {'date-parts': [[2020, 2, 19]]}, 'page': 'E571', 'volume': '9', 'issue': '2', 'PMID': '32093043', 'DOI': '10.3390/jcm9020571', 'type': 'article-journal'}\n",
      "{'_id': ObjectId('5e57570e2be1437d3035837b'), 'source': 'PubMed', 'accessed': {'date-parts': [[2020, 2, 27]]}, 'id': 'pmid:32092911', 'title': 'Rigidity of the Outer Shell Predicted by a Protein Intrinsic Disorder Model Sheds Light on the COVID-19 (Wuhan-2019-nCoV) Infectivity', 'author': [{'family': 'Goh', 'given': 'Gerard Kian-Meng'}, {'family': 'Dunker', 'given': 'A Keith'}, {'family': 'Foster', 'given': 'James A'}, {'family': 'Uversky', 'given': 'Vladimir N'}], 'container-title-short': 'Biomolecules', 'container-title': 'Biomolecules', 'publisher-place': 'Switzerland', 'ISSN': '2218-273X', 'issued': {'date-parts': [[2020, 2, 19]]}, 'page': 'E331', 'volume': '10', 'issue': '2', 'PMID': '32092911', 'DOI': '10.3390/biom10020331', 'type': 'article-journal'}\n",
      "{'_id': ObjectId('5e57570e2be1437d3035837c'), 'source': 'PubMed', 'accessed': {'date-parts': [[2020, 2, 27]]}, 'id': 'pmid:32092748', 'title': 'COVID-19: Real-time dissemination of scientific information to fight a public health emergency of international concern', 'author': [{'family': 'Song', 'given': 'Peipei'}, {'family': 'Karako', 'given': 'Takashi'}], 'container-title-short': 'Biosci Trends', 'container-title': 'Bioscience trends', 'publisher-place': 'Japan', 'ISSN': '1881-7815', 'issued': {'date-parts': [[2020, 2, 25]]}, 'status': 'ahead-of-print', 'page': '10.5582/bst.2020.01056', 'PMID': '32092748', 'DOI': '10.5582/bst.2020.01056', 'type': 'article-journal'}\n",
      "{'_id': ObjectId('5e57570f2be1437d3035837d'), 'source': 'PubMed', 'accessed': {'date-parts': [[2020, 2, 27]]}, 'id': 'pmid:32092539', 'title': 'Is COVID-19 Receiving ADE From Other Coronaviruses?', 'author': [{'family': 'Tetro', 'given': 'Jason A'}], 'container-title-short': 'Microbes Infect', 'container-title': 'Microbes and infection', 'publisher-place': 'France', 'ISSN': '1286-4579', 'issued': {'date-parts': [[2020, 2, 21]]}, 'status': 'ahead-of-print', 'page': 'S1286-4579(20)30034-4', 'PMID': '32092539', 'DOI': '10.1016/j.micinf.2020.02.006', 'type': 'article-journal'}\n",
      "{'_id': ObjectId('5e57570f2be1437d3035837e'), 'source': 'PubMed', 'accessed': {'date-parts': [[2020, 2, 27]]}, 'id': 'pmid:32092483', 'title': 'Genetic diversity and evolution of SARS-CoV-2', 'author': [{'family': 'Phan', 'given': 'Tung'}], 'container-title-short': 'Infect Genet Evol', 'container-title': 'Infection, genetics and evolution : journal of molecular epidemiology and evolutionary genetics in infectious diseases', 'publisher-place': 'Netherlands', 'ISSN': '1567-1348', 'issued': {'date-parts': [[2020, 2, 21]]}, 'status': 'ahead-of-print', 'page': '104260', 'PMID': '32092483', 'DOI': '10.1016/j.meegid.2020.104260', 'type': 'article-journal'}\n",
      "{'_id': ObjectId('5e5757102be1437d3035837f'), 'source': 'PubMed', 'accessed': {'date-parts': [[2020, 2, 27]]}, 'id': 'pmid:32092368', 'title': 'The non-contact handheld cutaneous infra-red thermometer for fever screening during the COVID-19 global emergency', 'author': [{'family': 'Aw', 'given': 'Dr Junjie'}], 'container-title-short': 'J Hosp Infect', 'container-title': 'The Journal of hospital infection', 'publisher-place': 'England', 'ISSN': '0195-6701', 'issued': {'date-parts': [[2020, 2, 21]]}, 'status': 'ahead-of-print', 'page': 'S0195-6701(20)30058-X', 'PMID': '32092368', 'DOI': '10.1016/j.jhin.2020.02.010', 'type': 'article-journal'}\n",
      "{'_id': ObjectId('5e5757102be1437d30358380'), 'source': 'PubMed', 'accessed': {'date-parts': [[2020, 2, 27]]}, 'id': 'pmid:32091533', 'title': 'Characteristics of and Important Lessons From the Coronavirus Disease 2019 (COVID-19) Outbreak in China: Summary of a Report of 72\\u202f314 Cases From the Chinese Center for Disease Control and Prevention', 'author': [{'family': 'Wu', 'given': 'Zunyou'}, {'family': 'McGoogan', 'given': 'Jennifer M'}], 'container-title-short': 'JAMA', 'container-title': 'JAMA', 'publisher-place': 'United States', 'ISSN': '0098-7484', 'issued': {'date-parts': [[2020, 2, 24]]}, 'status': 'ahead-of-print', 'page': '10.1001/jama.2020.2648', 'PMID': '32091533', 'DOI': '10.1001/jama.2020.2648', 'type': 'article-journal'}\n",
      "{'_id': ObjectId('5e5757112be1437d30358381'), 'source': 'PubMed', 'accessed': {'date-parts': [[2020, 2, 27]]}, 'id': 'pmid:32091414', 'title': 'Chest CT Findings in Patients with Corona Virus Disease 2019 and its Relationship with Clinical Features', 'author': [{'family': 'Wu', 'given': 'Jiong'}, {'family': 'Wu', 'given': 'Xiaojia'}, {'family': 'Zeng', 'given': 'Wenbing'}, {'family': 'Guo', 'given': 'Dajing'}, {'family': 'Fang', 'given': 'Zheng'}, {'family': 'Chen', 'given': 'Linli'}, {'family': 'Huang', 'given': 'Huizhe'}, {'family': 'Li', 'given': 'Chuanming'}], 'container-title-short': 'Invest Radiol', 'container-title': 'Investigative radiology', 'publisher-place': 'United States', 'ISSN': '0020-9996', 'issued': {'date-parts': [[2020, 2, 21]]}, 'status': 'ahead-of-print', 'page': '10.1097/RLI.0000000000000670', 'PMID': '32091414', 'DOI': '10.1097/RLI.0000000000000670', 'type': 'article-journal'}\n",
      "{'_id': ObjectId('5e5757112be1437d30358382'), 'source': 'PubMed', 'accessed': {'date-parts': [[2020, 2, 27]]}, 'id': 'pmid:32097725', 'title': 'Estimation of the reproductive number of Novel Coronavirus (COVID-19) and the probable outbreak size on the Diamond Princess cruise ship: A data-driven analysis', 'author': [{'family': 'Zhang', 'given': 'Sheng'}, {'family': 'Diao', 'given': 'MengYuan'}, {'family': 'Yu', 'given': 'Wenbo'}, {'family': 'Pei', 'given': 'Lei'}, {'family': 'Lin', 'given': 'Zhaofen'}, {'family': 'Chen', 'given': 'Dechang'}], 'container-title-short': 'Int J Infect Dis', 'container-title': 'International journal of infectious diseases : IJID : official publication of the International Society for Infectious Diseases', 'publisher-place': 'Canada', 'ISSN': '1201-9712', 'issued': {'date-parts': [[2020, 2, 22]]}, 'status': 'ahead-of-print', 'page': 'S1201-9712(20)30091-6', 'PMID': '32097725', 'DOI': '10.1016/j.ijid.2020.02.033', 'type': 'article-journal'}\n",
      "{'_id': ObjectId('5e5757112be1437d30358383'), 'source': 'PubMed', 'accessed': {'date-parts': [[2020, 2, 27]]}, 'id': 'pmid:32097202', 'title': 'Six weeks into the 2019 coronavirus disease (COVID-19) outbreak- it is time to consider strategies to impede the emergence of new zoonotic infections', 'author': [{'family': 'Harypursat', 'given': 'Vijay'}, {'family': 'Chen', 'given': 'Yao-Kai'}], 'container-title-short': 'Chin Med J (Engl)', 'container-title': 'Chinese medical journal', 'publisher-place': 'China', 'ISSN': '0366-6999', 'issued': {'date-parts': [[2020, 2, 24]]}, 'status': 'ahead-of-print', 'page': '10.1097/CM9.0000000000000760', 'PMID': '32097202', 'DOI': '10.1097/CM9.0000000000000760', 'type': 'article-journal'}\n",
      "{'_id': ObjectId('5e5757122be1437d30358384'), 'source': 'PubMed', 'accessed': {'date-parts': [[2020, 2, 27]]}, 'id': 'pmid:32096692', 'title': 'Anesthesia Procedure of Emergency Operation for Patients with Suspected or Confirmed COVID-19', 'author': [{'family': 'Wen', 'given': 'Xianjie'}, {'family': 'Li', 'given': 'Yiqun'}], 'container-title-short': 'Surg Infect (Larchmt)', 'container-title': 'Surgical infections', 'publisher-place': 'United States', 'ISSN': '1096-2964', 'issued': {'date-parts': [[2020, 2, 25]]}, 'status': 'ahead-of-print', 'page': '10.1089/sur.2020.040', 'PMID': '32096692', 'DOI': '10.1089/sur.2020.040', 'type': 'article-journal'}\n",
      "{'_id': ObjectId('5e5757122be1437d30358385'), 'source': 'PubMed', 'accessed': {'date-parts': [[2020, 2, 27]]}, 'id': 'pmid:32096611', 'title': '2019 novel coronavirus infection and gastrointestinal tract', 'author': [{'family': 'Gao', 'given': 'Qin Yan'}, {'family': 'Chen', 'given': 'Ying Xuan'}, {'family': 'Fang', 'given': 'Jing Yuan'}], 'container-title-short': 'J Dig Dis', 'container-title': 'Journal of digestive diseases', 'publisher-place': 'Australia', 'ISSN': '1751-2972', 'issued': {'date-parts': [[2020, 2, 25]]}, 'status': 'ahead-of-print', 'page': '10.1111/1751-2980.12851', 'PMID': '32096611', 'DOI': '10.1111/1751-2980.12851', 'type': 'article-journal'}\n",
      "{'_id': ObjectId('5e5757132be1437d30358386'), 'source': 'PubMed', 'accessed': {'date-parts': [[2020, 2, 27]]}, 'id': 'pmid:32096567', 'title': 'Understanding of COVID-19 based on current evidence', 'author': [{'family': 'Sun', 'given': 'Pengfei'}, {'family': 'Lu', 'given': 'Xiaosheng'}, {'family': 'Xu', 'given': 'Chao'}, {'family': 'Sun', 'given': 'Wenjuan'}, {'family': 'Pan', 'given': 'Bo'}], 'container-title-short': 'J Med Virol', 'container-title': 'Journal of medical virology', 'publisher-place': 'United States', 'ISSN': '0146-6615', 'issued': {'date-parts': [[2020, 2, 25]]}, 'status': 'ahead-of-print', 'page': '10.1002/jmv.25722', 'PMID': '32096567', 'DOI': '10.1002/jmv.25722', 'type': 'article-journal'}\n",
      "{'_id': ObjectId('5e5757132be1437d30358387'), 'source': 'PubMed', 'accessed': {'date-parts': [[2020, 2, 27]]}, 'id': 'pmid:32096564', 'title': 'Combination of RT-qPCR Testing and Clinical Features For Diagnosis of COVID-19 facilitates management of SARS-CoV-2 Outbreak', 'author': [{'family': 'Wang', 'given': 'Yishan'}, {'family': 'Kang', 'given': 'Hanyujie'}, {'family': 'Liu', 'given': 'Xuefeng'}, {'family': 'Tong', 'given': 'Zhaohui'}], 'container-title-short': 'J Med Virol', 'container-title': 'Journal of medical virology', 'publisher-place': 'United States', 'ISSN': '0146-6615', 'issued': {'date-parts': [[2020, 2, 25]]}, 'status': 'ahead-of-print', 'page': '10.1002/jmv.25721', 'PMID': '32096564', 'DOI': '10.1002/jmv.25721', 'type': 'article-journal'}\n",
      "{'_id': ObjectId('5e5757142be1437d30358388'), 'source': 'PubMed', 'accessed': {'date-parts': [[2020, 2, 27]]}, 'id': 'pmid:32096395', 'title': 'The treatment proposal for the patients with breast diseases in the central epidemic area of 2019 coronavirus disease', 'author': [{'family': 'Zhao', 'given': 'L'}, {'family': 'Zhang', 'given': 'L'}, {'family': 'Liu', 'given': 'J W'}, {'family': 'Yang', 'given': 'Z F'}, {'family': 'Shen', 'given': 'W Z'}, {'family': 'Li', 'given': 'X R'}], 'container-title-short': 'Zhonghua Wai Ke Za Zhi', 'container-title': 'Zhonghua wai ke za zhi [Chinese journal of surgery]', 'publisher-place': 'China', 'ISSN': '0529-5815', 'issued': {'date-parts': [[2020, 2, 25]]}, 'status': 'ahead-of-print', 'page': 'E005', 'volume': '58', 'issue': '0', 'PMID': '32096395', 'DOI': '10.3760/cma.j.cn112139-20200221-00116', 'type': 'article-journal'}\n",
      "{'_id': ObjectId('5e5757142be1437d30358389'), 'source': 'PubMed', 'accessed': {'date-parts': [[2020, 2, 27]]}, 'id': 'pmid:32096367', 'title': 'Management of corona virus disease-19 (COVID-19): the Zhejiang experience', 'author': [{'family': 'Xu', 'given': 'Kaijin'}, {'family': 'Cai', 'given': 'Hongliu'}, {'family': 'Shen', 'given': 'Yihong'}, {'family': 'Ni', 'given': 'Qin'}, {'family': 'Chen', 'given': 'Yu'}, {'family': 'Hu', 'given': 'Shaohua'}, {'family': 'Li', 'given': 'Jianping'}, {'family': 'Wang', 'given': 'Huafen'}, {'family': 'Yu', 'given': 'Liang'}, {'family': 'Huang', 'given': 'He'}, {'family': 'Qiu', 'given': 'Yunqing'}, {'family': 'Wei', 'given': 'Guoqing'}, {'family': 'Fang', 'given': 'Qiang'}, {'family': 'Zhou', 'given': 'Jianying'}, {'family': 'Sheng', 'given': 'Jifang'}, {'family': 'Liang', 'given': 'Tingbo'}, {'family': 'Li', 'given': 'Lanjuan'}], 'container-title-short': 'Zhejiang Da Xue Xue Bao Yi Xue Ban', 'container-title': 'Zhejiang da xue xue bao. Yi xue ban = Journal of Zhejiang University. Medical sciences', 'publisher-place': 'China', 'ISSN': '1008-9292', 'issued': {'date-parts': [[2020, 2, 21]]}, 'page': '0', 'volume': '49', 'issue': '1', 'PMID': '32096367', 'type': 'article-journal'}\n",
      "{'_id': ObjectId('5e5757152be1437d3035838a'), 'source': 'PubMed', 'accessed': {'date-parts': [[2020, 2, 27]]}, 'id': 'pmid:32096366', 'title': 'Dynamic changes of chest CT imaging in patients with corona virus disease-19 (COVID-19)', 'author': [{'family': 'Wang', 'given': 'Jincheng'}, {'family': 'Liu', 'given': 'Jinpeng'}, {'family': 'Wang', 'given': 'Yuanyuan'}, {'family': 'Liu', 'given': 'Wei'}, {'family': 'Chen', 'given': 'Xiaoqun'}, {'family': 'Sun', 'given': 'Chao'}, {'family': 'Shen', 'given': 'Xiaoyong'}, {'family': 'Wang', 'given': 'Qidong'}, {'family': 'Wu', 'given': 'Yaping'}, {'family': 'Liang', 'given': 'Wenjie'}, {'family': 'Ruan', 'given': 'Lingxiang'}], 'container-title-short': 'Zhejiang Da Xue Xue Bao Yi Xue Ban', 'container-title': 'Zhejiang da xue xue bao. Yi xue ban = Journal of Zhejiang University. Medical sciences', 'publisher-place': 'China', 'ISSN': '1008-9292', 'issued': {'date-parts': [[2020, 2, 24]]}, 'page': '0', 'volume': '49', 'issue': '1', 'PMID': '32096366', 'type': 'article-journal'}\n",
      "{'_id': ObjectId('5e5757152be1437d3035838b'), 'source': 'PubMed', 'accessed': {'date-parts': [[2020, 2, 27]]}, 'id': 'pmid:32093921', 'title': 'One world, one health: The novel coronavirus COVID-19 epidemic', 'author': [{'family': 'Trilla', 'given': 'Antoni'}], 'container-title-short': 'Med Clin (Barc)', 'container-title': 'Medicina clinica', 'publisher-place': 'Spain', 'ISSN': '0025-7753', 'issued': {'date-parts': [[2020, 2, 21]]}, 'status': 'ahead-of-print', 'page': 'S0025-7753(20)30141-X', 'PMID': '32093921', 'DOI': '10.1016/j.medcli.2020.02.002', 'type': 'article-journal'}\n",
      "{'_id': ObjectId('5e5757152be1437d3035838c'), 'source': 'PubMed', 'accessed': {'date-parts': [[2020, 2, 27]]}, 'id': 'pmid:32093461', 'title': 'A Novel Approach of Consultation on 2019 Novel Coronavirus (COVID-19)-Related Psychological and Mental Problems: Structured Letter Therapy', 'author': [{'family': 'Xiao', 'given': 'Chunfeng'}], 'container-title-short': 'Psychiatry Investig', 'container-title': 'Psychiatry investigation', 'publisher-place': 'Korea (South)', 'ISSN': '1738-3684', 'issued': {'date-parts': [[2020, 2]]}, 'epub-date': {'date-parts': [[2020, 2, 25]]}, 'page': '175-176', 'volume': '17', 'issue': '2', 'PMID': '32093461', 'DOI': '10.30773/pi.2020.0047', 'type': 'article-journal'}\n",
      "{'_id': ObjectId('5e5757162be1437d3035838d'), 'source': 'PubMed', 'accessed': {'date-parts': [[2020, 2, 27]]}, 'id': 'pmid:32093211', 'title': 'Characteristics of and Public Health Responses to the Coronavirus Disease 2019 Outbreak in China', 'author': [{'family': 'Deng', 'given': 'Sheng-Qun'}, {'family': 'Peng', 'given': 'Hong-Juan'}], 'container-title-short': 'J Clin Med', 'container-title': 'Journal of clinical medicine', 'publisher-place': 'Switzerland', 'ISSN': '2077-0383', 'issued': {'date-parts': [[2020, 2, 20]]}, 'page': 'E575', 'volume': '9', 'issue': '2', 'PMID': '32093211', 'DOI': '10.3390/jcm9020575', 'type': 'article-journal'}\n",
      "{'_id': ObjectId('5e5757162be1437d3035838e'), 'source': 'PubMed', 'accessed': {'date-parts': [[2020, 2, 27]]}, 'id': 'pmid:32093043', 'title': 'Risk Assessment of Novel Coronavirus COVID-19 Outbreaks Outside China', 'author': [{'family': 'Boldog', 'given': 'Péter'}, {'family': 'Tekeli', 'given': 'Tamás'}, {'family': 'Vizi', 'given': 'Zsolt'}, {'family': 'Dénes', 'given': 'Attila'}, {'family': 'Bartha', 'given': 'Ferenc A'}, {'family': 'Röst', 'given': 'Gergely'}], 'container-title-short': 'J Clin Med', 'container-title': 'Journal of clinical medicine', 'publisher-place': 'Switzerland', 'ISSN': '2077-0383', 'issued': {'date-parts': [[2020, 2, 19]]}, 'page': 'E571', 'volume': '9', 'issue': '2', 'PMID': '32093043', 'DOI': '10.3390/jcm9020571', 'type': 'article-journal'}\n",
      "{'_id': ObjectId('5e5757172be1437d3035838f'), 'source': 'PubMed', 'accessed': {'date-parts': [[2020, 2, 27]]}, 'id': 'pmid:32092911', 'title': 'Rigidity of the Outer Shell Predicted by a Protein Intrinsic Disorder Model Sheds Light on the COVID-19 (Wuhan-2019-nCoV) Infectivity', 'author': [{'family': 'Goh', 'given': 'Gerard Kian-Meng'}, {'family': 'Dunker', 'given': 'A Keith'}, {'family': 'Foster', 'given': 'James A'}, {'family': 'Uversky', 'given': 'Vladimir N'}], 'container-title-short': 'Biomolecules', 'container-title': 'Biomolecules', 'publisher-place': 'Switzerland', 'ISSN': '2218-273X', 'issued': {'date-parts': [[2020, 2, 19]]}, 'page': 'E331', 'volume': '10', 'issue': '2', 'PMID': '32092911', 'DOI': '10.3390/biom10020331', 'type': 'article-journal'}\n",
      "{'_id': ObjectId('5e5757172be1437d30358390'), 'source': 'PubMed', 'accessed': {'date-parts': [[2020, 2, 27]]}, 'id': 'pmid:32092748', 'title': 'COVID-19: Real-time dissemination of scientific information to fight a public health emergency of international concern', 'author': [{'family': 'Song', 'given': 'Peipei'}, {'family': 'Karako', 'given': 'Takashi'}], 'container-title-short': 'Biosci Trends', 'container-title': 'Bioscience trends', 'publisher-place': 'Japan', 'ISSN': '1881-7815', 'issued': {'date-parts': [[2020, 2, 25]]}, 'status': 'ahead-of-print', 'page': '10.5582/bst.2020.01056', 'PMID': '32092748', 'DOI': '10.5582/bst.2020.01056', 'type': 'article-journal'}\n",
      "{'_id': ObjectId('5e5757172be1437d30358391'), 'source': 'PubMed', 'accessed': {'date-parts': [[2020, 2, 27]]}, 'id': 'pmid:32092539', 'title': 'Is COVID-19 Receiving ADE From Other Coronaviruses?', 'author': [{'family': 'Tetro', 'given': 'Jason A'}], 'container-title-short': 'Microbes Infect', 'container-title': 'Microbes and infection', 'publisher-place': 'France', 'ISSN': '1286-4579', 'issued': {'date-parts': [[2020, 2, 21]]}, 'status': 'ahead-of-print', 'page': 'S1286-4579(20)30034-4', 'PMID': '32092539', 'DOI': '10.1016/j.micinf.2020.02.006', 'type': 'article-journal'}\n",
      "{'_id': ObjectId('5e5757182be1437d30358392'), 'source': 'PubMed', 'accessed': {'date-parts': [[2020, 2, 27]]}, 'id': 'pmid:32092483', 'title': 'Genetic diversity and evolution of SARS-CoV-2', 'author': [{'family': 'Phan', 'given': 'Tung'}], 'container-title-short': 'Infect Genet Evol', 'container-title': 'Infection, genetics and evolution : journal of molecular epidemiology and evolutionary genetics in infectious diseases', 'publisher-place': 'Netherlands', 'ISSN': '1567-1348', 'issued': {'date-parts': [[2020, 2, 21]]}, 'status': 'ahead-of-print', 'page': '104260', 'PMID': '32092483', 'DOI': '10.1016/j.meegid.2020.104260', 'type': 'article-journal'}\n",
      "{'_id': ObjectId('5e5757182be1437d30358393'), 'source': 'PubMed', 'accessed': {'date-parts': [[2020, 2, 27]]}, 'id': 'pmid:32092368', 'title': 'The non-contact handheld cutaneous infra-red thermometer for fever screening during the COVID-19 global emergency', 'author': [{'family': 'Aw', 'given': 'Dr Junjie'}], 'container-title-short': 'J Hosp Infect', 'container-title': 'The Journal of hospital infection', 'publisher-place': 'England', 'ISSN': '0195-6701', 'issued': {'date-parts': [[2020, 2, 21]]}, 'status': 'ahead-of-print', 'page': 'S0195-6701(20)30058-X', 'PMID': '32092368', 'DOI': '10.1016/j.jhin.2020.02.010', 'type': 'article-journal'}\n",
      "{'_id': ObjectId('5e5757192be1437d30358394'), 'source': 'PubMed', 'accessed': {'date-parts': [[2020, 2, 27]]}, 'id': 'pmid:32091533', 'title': 'Characteristics of and Important Lessons From the Coronavirus Disease 2019 (COVID-19) Outbreak in China: Summary of a Report of 72\\u202f314 Cases From the Chinese Center for Disease Control and Prevention', 'author': [{'family': 'Wu', 'given': 'Zunyou'}, {'family': 'McGoogan', 'given': 'Jennifer M'}], 'container-title-short': 'JAMA', 'container-title': 'JAMA', 'publisher-place': 'United States', 'ISSN': '0098-7484', 'issued': {'date-parts': [[2020, 2, 24]]}, 'status': 'ahead-of-print', 'page': '10.1001/jama.2020.2648', 'PMID': '32091533', 'DOI': '10.1001/jama.2020.2648', 'type': 'article-journal'}\n",
      "{'_id': ObjectId('5e5757192be1437d30358395'), 'source': 'PubMed', 'accessed': {'date-parts': [[2020, 2, 27]]}, 'id': 'pmid:32091414', 'title': 'Chest CT Findings in Patients with Corona Virus Disease 2019 and its Relationship with Clinical Features', 'author': [{'family': 'Wu', 'given': 'Jiong'}, {'family': 'Wu', 'given': 'Xiaojia'}, {'family': 'Zeng', 'given': 'Wenbing'}, {'family': 'Guo', 'given': 'Dajing'}, {'family': 'Fang', 'given': 'Zheng'}, {'family': 'Chen', 'given': 'Linli'}, {'family': 'Huang', 'given': 'Huizhe'}, {'family': 'Li', 'given': 'Chuanming'}], 'container-title-short': 'Invest Radiol', 'container-title': 'Investigative radiology', 'publisher-place': 'United States', 'ISSN': '0020-9996', 'issued': {'date-parts': [[2020, 2, 21]]}, 'status': 'ahead-of-print', 'page': '10.1097/RLI.0000000000000670', 'PMID': '32091414', 'DOI': '10.1097/RLI.0000000000000670', 'type': 'article-journal'}\n"
     ]
    }
   ],
   "source": [
    "for article in db.COVID19.find():\n",
    "    print(article)"
   ]
  },
  {
   "cell_type": "code",
   "execution_count": 25,
   "metadata": {},
   "outputs": [
    {
     "data": {
      "text/plain": [
       "9"
      ]
     },
     "execution_count": 25,
     "metadata": {},
     "output_type": "execute_result"
    }
   ],
   "source": [
    "len(pub_date)"
   ]
  },
  {
   "cell_type": "code",
   "execution_count": 9,
   "metadata": {
    "collapsed": true
   },
   "outputs": [
    {
     "ename": "ValueError",
     "evalue": "arrays must all be same length",
     "output_type": "error",
     "traceback": [
      "\u001b[0;31m---------------------------------------------------------------------------\u001b[0m",
      "\u001b[0;31mValueError\u001b[0m                                Traceback (most recent call last)",
      "\u001b[0;32m<ipython-input-9-b8be3a0caa01>\u001b[0m in \u001b[0;36m<module>\u001b[0;34m\u001b[0m\n\u001b[0;32m----> 1\u001b[0;31m \u001b[0mlocation_date_df\u001b[0m \u001b[0;34m=\u001b[0m \u001b[0mpd\u001b[0m\u001b[0;34m.\u001b[0m\u001b[0mDataFrame\u001b[0m\u001b[0;34m(\u001b[0m\u001b[0;34m{\u001b[0m\u001b[0;34m'Title'\u001b[0m\u001b[0;34m:\u001b[0m \u001b[0mtitles\u001b[0m\u001b[0;34m,\u001b[0m\u001b[0;34m'Location'\u001b[0m\u001b[0;34m:\u001b[0m \u001b[0mlocation\u001b[0m\u001b[0;34m,\u001b[0m \u001b[0;34m'Publication Date'\u001b[0m\u001b[0;34m:\u001b[0m \u001b[0mpub_date\u001b[0m\u001b[0;34m}\u001b[0m\u001b[0;34m)\u001b[0m\u001b[0;34m\u001b[0m\u001b[0;34m\u001b[0m\u001b[0m\n\u001b[0m",
      "\u001b[0;32m~/miniconda3/envs/PythonData/lib/python3.6/site-packages/pandas/core/frame.py\u001b[0m in \u001b[0;36m__init__\u001b[0;34m(self, data, index, columns, dtype, copy)\u001b[0m\n\u001b[1;32m    409\u001b[0m             )\n\u001b[1;32m    410\u001b[0m         \u001b[0;32melif\u001b[0m \u001b[0misinstance\u001b[0m\u001b[0;34m(\u001b[0m\u001b[0mdata\u001b[0m\u001b[0;34m,\u001b[0m \u001b[0mdict\u001b[0m\u001b[0;34m)\u001b[0m\u001b[0;34m:\u001b[0m\u001b[0;34m\u001b[0m\u001b[0;34m\u001b[0m\u001b[0m\n\u001b[0;32m--> 411\u001b[0;31m             \u001b[0mmgr\u001b[0m \u001b[0;34m=\u001b[0m \u001b[0minit_dict\u001b[0m\u001b[0;34m(\u001b[0m\u001b[0mdata\u001b[0m\u001b[0;34m,\u001b[0m \u001b[0mindex\u001b[0m\u001b[0;34m,\u001b[0m \u001b[0mcolumns\u001b[0m\u001b[0;34m,\u001b[0m \u001b[0mdtype\u001b[0m\u001b[0;34m=\u001b[0m\u001b[0mdtype\u001b[0m\u001b[0;34m)\u001b[0m\u001b[0;34m\u001b[0m\u001b[0;34m\u001b[0m\u001b[0m\n\u001b[0m\u001b[1;32m    412\u001b[0m         \u001b[0;32melif\u001b[0m \u001b[0misinstance\u001b[0m\u001b[0;34m(\u001b[0m\u001b[0mdata\u001b[0m\u001b[0;34m,\u001b[0m \u001b[0mma\u001b[0m\u001b[0;34m.\u001b[0m\u001b[0mMaskedArray\u001b[0m\u001b[0;34m)\u001b[0m\u001b[0;34m:\u001b[0m\u001b[0;34m\u001b[0m\u001b[0;34m\u001b[0m\u001b[0m\n\u001b[1;32m    413\u001b[0m             \u001b[0;32mimport\u001b[0m \u001b[0mnumpy\u001b[0m\u001b[0;34m.\u001b[0m\u001b[0mma\u001b[0m\u001b[0;34m.\u001b[0m\u001b[0mmrecords\u001b[0m \u001b[0;32mas\u001b[0m \u001b[0mmrecords\u001b[0m\u001b[0;34m\u001b[0m\u001b[0;34m\u001b[0m\u001b[0m\n",
      "\u001b[0;32m~/miniconda3/envs/PythonData/lib/python3.6/site-packages/pandas/core/internals/construction.py\u001b[0m in \u001b[0;36minit_dict\u001b[0;34m(data, index, columns, dtype)\u001b[0m\n\u001b[1;32m    255\u001b[0m             \u001b[0marr\u001b[0m \u001b[0;32mif\u001b[0m \u001b[0;32mnot\u001b[0m \u001b[0mis_datetime64tz_dtype\u001b[0m\u001b[0;34m(\u001b[0m\u001b[0marr\u001b[0m\u001b[0;34m)\u001b[0m \u001b[0;32melse\u001b[0m \u001b[0marr\u001b[0m\u001b[0;34m.\u001b[0m\u001b[0mcopy\u001b[0m\u001b[0;34m(\u001b[0m\u001b[0;34m)\u001b[0m \u001b[0;32mfor\u001b[0m \u001b[0marr\u001b[0m \u001b[0;32min\u001b[0m \u001b[0marrays\u001b[0m\u001b[0;34m\u001b[0m\u001b[0;34m\u001b[0m\u001b[0m\n\u001b[1;32m    256\u001b[0m         ]\n\u001b[0;32m--> 257\u001b[0;31m     \u001b[0;32mreturn\u001b[0m \u001b[0marrays_to_mgr\u001b[0m\u001b[0;34m(\u001b[0m\u001b[0marrays\u001b[0m\u001b[0;34m,\u001b[0m \u001b[0mdata_names\u001b[0m\u001b[0;34m,\u001b[0m \u001b[0mindex\u001b[0m\u001b[0;34m,\u001b[0m \u001b[0mcolumns\u001b[0m\u001b[0;34m,\u001b[0m \u001b[0mdtype\u001b[0m\u001b[0;34m=\u001b[0m\u001b[0mdtype\u001b[0m\u001b[0;34m)\u001b[0m\u001b[0;34m\u001b[0m\u001b[0;34m\u001b[0m\u001b[0m\n\u001b[0m\u001b[1;32m    258\u001b[0m \u001b[0;34m\u001b[0m\u001b[0m\n\u001b[1;32m    259\u001b[0m \u001b[0;34m\u001b[0m\u001b[0m\n",
      "\u001b[0;32m~/miniconda3/envs/PythonData/lib/python3.6/site-packages/pandas/core/internals/construction.py\u001b[0m in \u001b[0;36marrays_to_mgr\u001b[0;34m(arrays, arr_names, index, columns, dtype)\u001b[0m\n\u001b[1;32m     75\u001b[0m     \u001b[0;31m# figure out the index, if necessary\u001b[0m\u001b[0;34m\u001b[0m\u001b[0;34m\u001b[0m\u001b[0;34m\u001b[0m\u001b[0m\n\u001b[1;32m     76\u001b[0m     \u001b[0;32mif\u001b[0m \u001b[0mindex\u001b[0m \u001b[0;32mis\u001b[0m \u001b[0;32mNone\u001b[0m\u001b[0;34m:\u001b[0m\u001b[0;34m\u001b[0m\u001b[0;34m\u001b[0m\u001b[0m\n\u001b[0;32m---> 77\u001b[0;31m         \u001b[0mindex\u001b[0m \u001b[0;34m=\u001b[0m \u001b[0mextract_index\u001b[0m\u001b[0;34m(\u001b[0m\u001b[0marrays\u001b[0m\u001b[0;34m)\u001b[0m\u001b[0;34m\u001b[0m\u001b[0;34m\u001b[0m\u001b[0m\n\u001b[0m\u001b[1;32m     78\u001b[0m     \u001b[0;32melse\u001b[0m\u001b[0;34m:\u001b[0m\u001b[0;34m\u001b[0m\u001b[0;34m\u001b[0m\u001b[0m\n\u001b[1;32m     79\u001b[0m         \u001b[0mindex\u001b[0m \u001b[0;34m=\u001b[0m \u001b[0mensure_index\u001b[0m\u001b[0;34m(\u001b[0m\u001b[0mindex\u001b[0m\u001b[0;34m)\u001b[0m\u001b[0;34m\u001b[0m\u001b[0;34m\u001b[0m\u001b[0m\n",
      "\u001b[0;32m~/miniconda3/envs/PythonData/lib/python3.6/site-packages/pandas/core/internals/construction.py\u001b[0m in \u001b[0;36mextract_index\u001b[0;34m(data)\u001b[0m\n\u001b[1;32m    366\u001b[0m             \u001b[0mlengths\u001b[0m \u001b[0;34m=\u001b[0m \u001b[0mlist\u001b[0m\u001b[0;34m(\u001b[0m\u001b[0mset\u001b[0m\u001b[0;34m(\u001b[0m\u001b[0mraw_lengths\u001b[0m\u001b[0;34m)\u001b[0m\u001b[0;34m)\u001b[0m\u001b[0;34m\u001b[0m\u001b[0;34m\u001b[0m\u001b[0m\n\u001b[1;32m    367\u001b[0m             \u001b[0;32mif\u001b[0m \u001b[0mlen\u001b[0m\u001b[0;34m(\u001b[0m\u001b[0mlengths\u001b[0m\u001b[0;34m)\u001b[0m \u001b[0;34m>\u001b[0m \u001b[0;36m1\u001b[0m\u001b[0;34m:\u001b[0m\u001b[0;34m\u001b[0m\u001b[0;34m\u001b[0m\u001b[0m\n\u001b[0;32m--> 368\u001b[0;31m                 \u001b[0;32mraise\u001b[0m \u001b[0mValueError\u001b[0m\u001b[0;34m(\u001b[0m\u001b[0;34m\"arrays must all be same length\"\u001b[0m\u001b[0;34m)\u001b[0m\u001b[0;34m\u001b[0m\u001b[0;34m\u001b[0m\u001b[0m\n\u001b[0m\u001b[1;32m    369\u001b[0m \u001b[0;34m\u001b[0m\u001b[0m\n\u001b[1;32m    370\u001b[0m             \u001b[0;32mif\u001b[0m \u001b[0mhave_dicts\u001b[0m\u001b[0;34m:\u001b[0m\u001b[0;34m\u001b[0m\u001b[0;34m\u001b[0m\u001b[0m\n",
      "\u001b[0;31mValueError\u001b[0m: arrays must all be same length"
     ]
    }
   ],
   "source": [
    "location_date_df = pd.DataFrame({'Title': titles,'Location': location, 'Publication Date': pub_date})"
   ]
  },
  {
   "cell_type": "code",
   "execution_count": 50,
   "metadata": {},
   "outputs": [
    {
     "data": {
      "text/html": [
       "<div>\n",
       "<style scoped>\n",
       "    .dataframe tbody tr th:only-of-type {\n",
       "        vertical-align: middle;\n",
       "    }\n",
       "\n",
       "    .dataframe tbody tr th {\n",
       "        vertical-align: top;\n",
       "    }\n",
       "\n",
       "    .dataframe thead th {\n",
       "        text-align: right;\n",
       "    }\n",
       "</style>\n",
       "<table border=\"1\" class=\"dataframe\">\n",
       "  <thead>\n",
       "    <tr style=\"text-align: right;\">\n",
       "      <th></th>\n",
       "      <th>Title</th>\n",
       "      <th>Location</th>\n",
       "      <th>Publication Date</th>\n",
       "    </tr>\n",
       "  </thead>\n",
       "  <tbody>\n",
       "    <tr>\n",
       "      <th>0</th>\n",
       "      <td>Is COVID-19 Receiving ADE From Other Coronavir...</td>\n",
       "      <td>France</td>\n",
       "      <td>2020-2-21</td>\n",
       "    </tr>\n",
       "  </tbody>\n",
       "</table>\n",
       "</div>"
      ],
      "text/plain": [
       "                                               Title Location Publication Date\n",
       "0  Is COVID-19 Receiving ADE From Other Coronavir...   France        2020-2-21"
      ]
     },
     "execution_count": 50,
     "metadata": {},
     "output_type": "execute_result"
    }
   ],
   "source": [
    "location_date_df"
   ]
  },
  {
   "cell_type": "code",
   "execution_count": 52,
   "metadata": {},
   "outputs": [
    {
     "data": {
      "text/plain": [
       "True"
      ]
     },
     "execution_count": 52,
     "metadata": {},
     "output_type": "execute_result"
    }
   ],
   "source": []
  },
  {
   "cell_type": "code",
   "execution_count": null,
   "metadata": {},
   "outputs": [],
   "source": []
  }
 ],
 "metadata": {
  "kernelspec": {
   "display_name": "Python 3",
   "language": "python",
   "name": "python3"
  },
  "language_info": {
   "codemirror_mode": {
    "name": "ipython",
    "version": 3
   },
   "file_extension": ".py",
   "mimetype": "text/x-python",
   "name": "python",
   "nbconvert_exporter": "python",
   "pygments_lexer": "ipython3",
   "version": "3.7.4"
  }
 },
 "nbformat": 4,
 "nbformat_minor": 2
}
